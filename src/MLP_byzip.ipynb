{
 "cells": [
  {
   "cell_type": "code",
   "execution_count": 325,
   "id": "a1985281",
   "metadata": {},
   "outputs": [
    {
     "name": "stdout",
     "output_type": "stream",
     "text": [
      "Collecting torchmetrics\n",
      "  Downloading torchmetrics-1.2.0-py3-none-any.whl (805 kB)\n",
      "\u001b[2K     \u001b[90m━━━━━━━━━━━━━━━━━━━━━━━━━━━━━━━━━━━━━━━\u001b[0m \u001b[32m805.2/805.2 kB\u001b[0m \u001b[31m8.0 MB/s\u001b[0m eta \u001b[36m0:00:00\u001b[0ma \u001b[36m0:00:01\u001b[0m\n",
      "\u001b[?25hRequirement already satisfied: torch>=1.8.1 in /Users/emmydanforth/anaconda3/lib/python3.10/site-packages (from torchmetrics) (1.12.1)\n",
      "Requirement already satisfied: numpy>1.20.0 in /Users/emmydanforth/anaconda3/lib/python3.10/site-packages (from torchmetrics) (1.23.5)\n",
      "Collecting lightning-utilities>=0.8.0\n",
      "  Downloading lightning_utilities-0.9.0-py3-none-any.whl (23 kB)\n",
      "Requirement already satisfied: packaging>=17.1 in /Users/emmydanforth/anaconda3/lib/python3.10/site-packages (from lightning-utilities>=0.8.0->torchmetrics) (22.0)\n",
      "Requirement already satisfied: typing-extensions in /Users/emmydanforth/anaconda3/lib/python3.10/site-packages (from lightning-utilities>=0.8.0->torchmetrics) (4.4.0)\n",
      "Installing collected packages: lightning-utilities, torchmetrics\n",
      "Successfully installed lightning-utilities-0.9.0 torchmetrics-1.2.0\n",
      "Note: you may need to restart the kernel to use updated packages.\n"
     ]
    }
   ],
   "source": [
    "pip install torchmetrics"
   ]
  },
  {
   "cell_type": "code",
   "execution_count": 326,
   "id": "5fea28f7",
   "metadata": {},
   "outputs": [
    {
     "name": "stderr",
     "output_type": "stream",
     "text": [
      "2023-10-24 11:12:24.126991: I tensorflow/core/platform/cpu_feature_guard.cc:182] This TensorFlow binary is optimized to use available CPU instructions in performance-critical operations.\n",
      "To enable the following instructions: AVX2 FMA, in other operations, rebuild TensorFlow with the appropriate compiler flags.\n"
     ]
    }
   ],
   "source": [
    "# General\n",
    "import pickle\n",
    "import pandas as pd\n",
    "import numpy as np\n",
    "import math\n",
    "import datetime\n",
    "from scipy import stats\n",
    "import itertools\n",
    "from pandas.plotting import register_matplotlib_converters\n",
    "import warnings\n",
    "\n",
    "from sklearn.preprocessing import MinMaxScaler\n",
    "from sklearn.model_selection import TimeSeriesSplit\n",
    "from sklearn.compose import ColumnTransformer, make_column_selector\n",
    "\n",
    "# Plotting\n",
    "import matplotlib.pyplot as plt\n",
    "import seaborn as sns\n",
    "\n",
    "# Torch\n",
    "import torch.nn as nn\n",
    "import torch\n",
    "from torch.optim import Adam\n",
    "from torch.utils.data import Dataset, DataLoader\n",
    "from tqdm import trange\n",
    "from torchmetrics.regression import MeanAbsolutePercentageError\n",
    "\n",
    "# Set options\n",
    "pd.set_option(\"display.max_rows\", 500)\n",
    "pd.set_option(\"display.max_columns\", 500)\n",
    "warnings.filterwarnings('ignore')"
   ]
  },
  {
   "cell_type": "code",
   "execution_count": 3,
   "id": "b1b177fb",
   "metadata": {},
   "outputs": [],
   "source": [
    "# Load data, sort on zip and date and set index to datetime\n",
    "with open(\"../data/sfr_mfr_mig_pre-processed.pkl\", \"rb\") as f: df = pickle.load(f)\n",
    "df.sort_values(['census_cbsa_geoid', 'census_zcta5_geoid', 'date'], inplace = True)"
   ]
  },
  {
   "cell_type": "code",
   "execution_count": 4,
   "id": "18289583",
   "metadata": {},
   "outputs": [
    {
     "data": {
      "text/plain": [
       "Index(['date', 'census_cbsa_geoid', 'census_zcta5_geoid', 'sfr_rental_index',\n",
       "       'sfr_price_index', 'coef', 'nounits', 'occupied_units', 'mfr_occ',\n",
       "       'mfr_mean_occ_index', 'mfr_mean_rent', 'mfr_mean_rent_index', 'month',\n",
       "       'cos_month', 'sin_month', 'sfr_rental_delta', 'sfr_price_delta',\n",
       "       'mfr_occ_delta', 'mfr_rental_delta', 'us_zip', 'population',\n",
       "       'student_population_fraction', 'netflow_estimated', 'inflow_estimated',\n",
       "       'outflow_estimated', 'cumulative_netflow_estimated',\n",
       "       'median_income_inflow', 'median_income', 'median_income_difference',\n",
       "       'median_age_inflow', 'median_age', 'median_age_difference',\n",
       "       'inflow_index', 'outflow_index', 'netflow_index', 'income_inflow_index',\n",
       "       'income_diff_index', 'age_inflow_index', 'age_inflow_diff_index'],\n",
       "      dtype='object')"
      ]
     },
     "execution_count": 4,
     "metadata": {},
     "output_type": "execute_result"
    }
   ],
   "source": [
    "df.columns"
   ]
  },
  {
   "cell_type": "code",
   "execution_count": 5,
   "id": "00079556",
   "metadata": {},
   "outputs": [],
   "source": [
    "# subset for time frame that includes MFR data (Jan 2015 - June 2023)\n",
    "df = df.loc[(df.date >= '2015-01-01') & (df.date <= '2023-06-01')]"
   ]
  },
  {
   "cell_type": "code",
   "execution_count": 6,
   "id": "f5a7d638",
   "metadata": {},
   "outputs": [],
   "source": [
    "# drop incomplete zips\n",
    "drops = df.loc[df.mfr_occ.isna()].census_zcta5_geoid.unique().tolist()\n",
    "df.drop(df.loc[df['census_zcta5_geoid'].isin(drops)].index, inplace=True)"
   ]
  },
  {
   "cell_type": "code",
   "execution_count": 7,
   "id": "53b60896",
   "metadata": {
    "scrolled": true
   },
   "outputs": [
    {
     "data": {
      "text/html": [
       "<div>\n",
       "<style scoped>\n",
       "    .dataframe tbody tr th:only-of-type {\n",
       "        vertical-align: middle;\n",
       "    }\n",
       "\n",
       "    .dataframe tbody tr th {\n",
       "        vertical-align: top;\n",
       "    }\n",
       "\n",
       "    .dataframe thead th {\n",
       "        text-align: right;\n",
       "    }\n",
       "</style>\n",
       "<table border=\"1\" class=\"dataframe\">\n",
       "  <thead>\n",
       "    <tr style=\"text-align: right;\">\n",
       "      <th></th>\n",
       "      <th>date</th>\n",
       "      <th>census_zcta5_geoid</th>\n",
       "      <th>sfr_rental_delta</th>\n",
       "      <th>sfr_price_delta</th>\n",
       "      <th>mfr_rental_delta</th>\n",
       "      <th>mfr_occ_delta</th>\n",
       "      <th>cos_month</th>\n",
       "      <th>sin_month</th>\n",
       "    </tr>\n",
       "  </thead>\n",
       "  <tbody>\n",
       "    <tr>\n",
       "      <th>60</th>\n",
       "      <td>2015-01-01</td>\n",
       "      <td>30002</td>\n",
       "      <td>0.085159</td>\n",
       "      <td>-0.341463</td>\n",
       "      <td>0.000000</td>\n",
       "      <td>0.000000</td>\n",
       "      <td>8.660254e-01</td>\n",
       "      <td>5.000000e-01</td>\n",
       "    </tr>\n",
       "    <tr>\n",
       "      <th>61</th>\n",
       "      <td>2015-02-01</td>\n",
       "      <td>30002</td>\n",
       "      <td>0.439878</td>\n",
       "      <td>-0.128840</td>\n",
       "      <td>1.548274</td>\n",
       "      <td>0.000000</td>\n",
       "      <td>5.000000e-01</td>\n",
       "      <td>8.660254e-01</td>\n",
       "    </tr>\n",
       "    <tr>\n",
       "      <th>62</th>\n",
       "      <td>2015-03-01</td>\n",
       "      <td>30002</td>\n",
       "      <td>0.538547</td>\n",
       "      <td>0.221081</td>\n",
       "      <td>-2.154165</td>\n",
       "      <td>0.242699</td>\n",
       "      <td>6.123234e-17</td>\n",
       "      <td>1.000000e+00</td>\n",
       "    </tr>\n",
       "    <tr>\n",
       "      <th>63</th>\n",
       "      <td>2015-04-01</td>\n",
       "      <td>30002</td>\n",
       "      <td>0.487247</td>\n",
       "      <td>0.691540</td>\n",
       "      <td>-0.380059</td>\n",
       "      <td>-0.566297</td>\n",
       "      <td>-5.000000e-01</td>\n",
       "      <td>8.660254e-01</td>\n",
       "    </tr>\n",
       "    <tr>\n",
       "      <th>64</th>\n",
       "      <td>2015-05-01</td>\n",
       "      <td>30002</td>\n",
       "      <td>0.818878</td>\n",
       "      <td>1.020492</td>\n",
       "      <td>-1.564223</td>\n",
       "      <td>0.000000</td>\n",
       "      <td>-8.660254e-01</td>\n",
       "      <td>5.000000e-01</td>\n",
       "    </tr>\n",
       "    <tr>\n",
       "      <th>...</th>\n",
       "      <td>...</td>\n",
       "      <td>...</td>\n",
       "      <td>...</td>\n",
       "      <td>...</td>\n",
       "      <td>...</td>\n",
       "      <td>...</td>\n",
       "      <td>...</td>\n",
       "      <td>...</td>\n",
       "    </tr>\n",
       "    <tr>\n",
       "      <th>36073</th>\n",
       "      <td>2023-02-01</td>\n",
       "      <td>44333</td>\n",
       "      <td>0.829120</td>\n",
       "      <td>-1.346590</td>\n",
       "      <td>1.364752</td>\n",
       "      <td>0.000000</td>\n",
       "      <td>5.000000e-01</td>\n",
       "      <td>8.660254e-01</td>\n",
       "    </tr>\n",
       "    <tr>\n",
       "      <th>36074</th>\n",
       "      <td>2023-03-01</td>\n",
       "      <td>44333</td>\n",
       "      <td>0.681663</td>\n",
       "      <td>0.183288</td>\n",
       "      <td>0.772582</td>\n",
       "      <td>-0.288840</td>\n",
       "      <td>6.123234e-17</td>\n",
       "      <td>1.000000e+00</td>\n",
       "    </tr>\n",
       "    <tr>\n",
       "      <th>36075</th>\n",
       "      <td>2023-04-01</td>\n",
       "      <td>44333</td>\n",
       "      <td>0.921771</td>\n",
       "      <td>1.030017</td>\n",
       "      <td>0.321551</td>\n",
       "      <td>0.000000</td>\n",
       "      <td>-5.000000e-01</td>\n",
       "      <td>8.660254e-01</td>\n",
       "    </tr>\n",
       "    <tr>\n",
       "      <th>36076</th>\n",
       "      <td>2023-05-01</td>\n",
       "      <td>44333</td>\n",
       "      <td>1.335976</td>\n",
       "      <td>1.802781</td>\n",
       "      <td>0.020864</td>\n",
       "      <td>-0.286548</td>\n",
       "      <td>-8.660254e-01</td>\n",
       "      <td>5.000000e-01</td>\n",
       "    </tr>\n",
       "    <tr>\n",
       "      <th>36077</th>\n",
       "      <td>2023-06-01</td>\n",
       "      <td>44333</td>\n",
       "      <td>-0.145938</td>\n",
       "      <td>0.867492</td>\n",
       "      <td>-1.370889</td>\n",
       "      <td>0.000000</td>\n",
       "      <td>-1.000000e+00</td>\n",
       "      <td>1.224647e-16</td>\n",
       "    </tr>\n",
       "  </tbody>\n",
       "</table>\n",
       "<p>18462 rows × 8 columns</p>\n",
       "</div>"
      ],
      "text/plain": [
       "            date census_zcta5_geoid  sfr_rental_delta  sfr_price_delta  \\\n",
       "60    2015-01-01              30002          0.085159        -0.341463   \n",
       "61    2015-02-01              30002          0.439878        -0.128840   \n",
       "62    2015-03-01              30002          0.538547         0.221081   \n",
       "63    2015-04-01              30002          0.487247         0.691540   \n",
       "64    2015-05-01              30002          0.818878         1.020492   \n",
       "...          ...                ...               ...              ...   \n",
       "36073 2023-02-01              44333          0.829120        -1.346590   \n",
       "36074 2023-03-01              44333          0.681663         0.183288   \n",
       "36075 2023-04-01              44333          0.921771         1.030017   \n",
       "36076 2023-05-01              44333          1.335976         1.802781   \n",
       "36077 2023-06-01              44333         -0.145938         0.867492   \n",
       "\n",
       "       mfr_rental_delta  mfr_occ_delta     cos_month     sin_month  \n",
       "60             0.000000       0.000000  8.660254e-01  5.000000e-01  \n",
       "61             1.548274       0.000000  5.000000e-01  8.660254e-01  \n",
       "62            -2.154165       0.242699  6.123234e-17  1.000000e+00  \n",
       "63            -0.380059      -0.566297 -5.000000e-01  8.660254e-01  \n",
       "64            -1.564223       0.000000 -8.660254e-01  5.000000e-01  \n",
       "...                 ...            ...           ...           ...  \n",
       "36073          1.364752       0.000000  5.000000e-01  8.660254e-01  \n",
       "36074          0.772582      -0.288840  6.123234e-17  1.000000e+00  \n",
       "36075          0.321551       0.000000 -5.000000e-01  8.660254e-01  \n",
       "36076          0.020864      -0.286548 -8.660254e-01  5.000000e-01  \n",
       "36077         -1.370889       0.000000 -1.000000e+00  1.224647e-16  \n",
       "\n",
       "[18462 rows x 8 columns]"
      ]
     },
     "execution_count": 7,
     "metadata": {},
     "output_type": "execute_result"
    }
   ],
   "source": [
    "# Keep only desired columns\n",
    "df = df[['date', 'census_zcta5_geoid', 'sfr_rental_delta', 'sfr_price_delta', \n",
    "         'mfr_rental_delta', 'mfr_occ_delta', 'cos_month', 'sin_month']]\n",
    "df"
   ]
  },
  {
   "cell_type": "code",
   "execution_count": 8,
   "id": "5a80cada",
   "metadata": {},
   "outputs": [
    {
     "name": "stdout",
     "output_type": "stream",
     "text": [
      "[3, 4, 5]\n",
      "[6, 7, 8]\n"
     ]
    }
   ],
   "source": [
    "array = [3, 4, 5, 6, 7, 8, 9]\n",
    "\n",
    "print(array[0:3])\n",
    "print(array[3:6])"
   ]
  },
  {
   "cell_type": "code",
   "execution_count": 155,
   "id": "20dd2d95",
   "metadata": {},
   "outputs": [],
   "source": [
    "# Define class\n",
    "\n",
    "class SFR_DATASET(Dataset):\n",
    "    def __init__(self, df):\n",
    "        self.data = df.to_dict('records') # random access is easier with dictionaries\n",
    "    \n",
    "    def __len__(self): \n",
    "        return len(self.data) - 18  # subtract length of input + output\n",
    "    \n",
    "    def __getitem__(self, idx): \n",
    "        \n",
    "        input = pd.DataFrame(self.data[idx:idx+12])\n",
    "        output = pd.DataFrame(self.data[idx+12:idx+18])\n",
    "        \n",
    "        # each of these are 12x1 tensors (12 months of data)\n",
    "        in_sfr = torch.tensor(input['sfr_rental_delta']) \n",
    "        in_sfp = torch.tensor(input['sfr_price_delta'])\n",
    "        in_mfr = torch.tensor(input['mfr_rental_delta'])\n",
    "        in_mfo = torch.tensor(input['mfr_occ_delta'])\n",
    "        in_sinm = torch.tensor(input['sin_month'])\n",
    "        in_cosm = torch.tensor(input['cos_month']) \n",
    "        x = torch.cat((in_sfr, in_sfp, in_mfr, in_mfo, in_sinm, in_cosm), dim = 0) # concat into 72-wide vector\n",
    "        y = torch.tensor(output['sfr_rental_delta'])\n",
    "        return {'X':x.float(), 'Y':y.float()}"
   ]
  },
  {
   "cell_type": "code",
   "execution_count": 33,
   "id": "7d61da77",
   "metadata": {},
   "outputs": [],
   "source": [
    "# Define scaler\n",
    "scaler = MinMaxScaler(feature_range=(-1, 1))\n",
    "\n",
    "col_transform = ColumnTransformer(\n",
    "    transformers=[\n",
    "        (\"num\", MinMaxScaler(feature_range=(-1, 1)), make_column_selector(dtype_include=np.number))], \n",
    "        remainder='passthrough',\n",
    "        verbose_feature_names_out = False\n",
    ")"
   ]
  },
  {
   "cell_type": "code",
   "execution_count": 156,
   "id": "5949c881",
   "metadata": {},
   "outputs": [],
   "source": [
    "# Create zip dict to store class for each zip\n",
    "zip_dict_train = {}\n",
    "zip_dict_test = {}\n",
    "\n",
    "# Cast the class, separating out by zipcdoe\n",
    "for zipcode in df['census_zcta5_geoid'].unique():\n",
    "    \n",
    "    # Filter for single zipcode\n",
    "    zipcode_df = df[df['census_zcta5_geoid'] == zipcode]\n",
    "    \n",
    "    # Train test split\n",
    "    df_train = zipcode_df.loc[(df.date < '2021-12-01')]\n",
    "    df_test = zipcode_df.loc[(df.date >= '2021-12-01')]\n",
    "    \n",
    "    # Transform training data, cast class and store\n",
    "    train_X = col_transform.fit_transform(df_train)\n",
    "    train_X = pd.DataFrame(train_X, columns = col_transform.get_feature_names_out())\n",
    "    train_sfr = SFR_DATASET(train_X)\n",
    "    zip_dict_train[zipcode] = train_sfr\n",
    "    \n",
    "    # Transform testing data, cast class and store\n",
    "    test_X = col_transform.fit_transform(df_test)\n",
    "    test_X = pd.DataFrame(test_X, columns = col_transform.get_feature_names_out())\n",
    "    test_sfr = SFR_DATASET(test_X)\n",
    "    zip_dict_test[zipcode] = test_sfr"
   ]
  },
  {
   "cell_type": "code",
   "execution_count": 158,
   "id": "62f6ea50",
   "metadata": {},
   "outputs": [
    {
     "name": "stdout",
     "output_type": "stream",
     "text": [
      "83\n",
      "{'X': tensor([-1.0000e+00, -7.3362e-01, -6.5953e-01, -6.9805e-01, -4.4901e-01,\n",
      "        -5.4270e-01, -4.3483e-01, -7.6435e-01, -7.1402e-01, -7.9240e-01,\n",
      "        -9.2652e-01, -9.0846e-01, -8.0106e-01, -6.4592e-01, -3.9060e-01,\n",
      "        -4.7322e-02,  1.9270e-01, -4.9943e-01,  5.4419e-01,  8.4357e-01,\n",
      "         8.7634e-02, -2.1854e-01, -5.0432e-01, -2.8387e-01, -2.6338e-01,\n",
      "        -9.6415e-02, -4.9568e-01, -3.0436e-01, -4.3206e-01, -3.9460e-01,\n",
      "        -5.0374e-01,  1.2117e-01, -2.1214e-01, -1.9494e-01, -7.2910e-02,\n",
      "        -1.2560e-02,  1.2108e-01,  1.2108e-01,  2.9970e-01, -2.9572e-01,\n",
      "         1.2108e-01,  3.5924e-01, -1.1709e-01,  3.6798e-01,  6.5695e-01,\n",
      "         2.4016e-01,  1.2108e-01,  2.9970e-01,  5.0000e-01,  8.6603e-01,\n",
      "         1.0000e+00,  8.6603e-01,  5.0000e-01,  1.2246e-16, -5.0000e-01,\n",
      "        -8.6603e-01, -1.0000e+00, -8.6603e-01, -5.0000e-01, -2.4493e-16,\n",
      "         8.6603e-01,  5.0000e-01,  6.1232e-17, -5.0000e-01, -8.6603e-01,\n",
      "        -1.0000e+00, -8.6603e-01, -5.0000e-01, -1.8370e-16,  5.0000e-01,\n",
      "         8.6603e-01,  1.0000e+00]), 'Y': tensor([-0.7941, -0.5946, -0.5692, -0.4795, -0.5433, -0.5015])}\n",
      "19\n",
      "{'X': tensor([ 1.0000e+00,  4.0086e-01,  4.9396e-01,  5.6742e-01,  6.7550e-01,\n",
      "         5.8441e-01,  5.2969e-01,  9.5465e-01,  1.5878e-01, -9.6529e-01,\n",
      "        -3.9155e-01, -7.4675e-01,  2.0663e-01,  6.5979e-01,  2.5881e-01,\n",
      "         3.4293e-01,  7.4846e-01,  7.9450e-01,  1.0000e+00,  3.4996e-01,\n",
      "         4.5880e-01, -2.4984e-01, -4.6485e-01, -1.0000e+00, -2.6372e-01,\n",
      "         1.9859e-01, -4.8253e-01,  5.8551e-01,  6.1946e-01,  1.0000e+00,\n",
      "         6.0190e-01, -1.6949e-01, -6.1717e-01, -5.3603e-01, -3.0210e-02,\n",
      "        -6.6047e-01, -8.3230e-01, -6.7473e-01, -4.9015e-01, -3.6747e-01,\n",
      "        -3.6747e-01,  7.3663e-01,  6.1396e-01,  7.3663e-01,  2.0990e-01,\n",
      "         1.6601e-01,  1.2212e-01, -9.5611e-01, -2.4493e-16,  5.0000e-01,\n",
      "         8.6603e-01,  1.0000e+00,  8.6603e-01,  5.0000e-01,  1.2246e-16,\n",
      "        -5.0000e-01, -8.6603e-01, -1.0000e+00, -8.6603e-01, -5.0000e-01,\n",
      "         1.0000e+00,  8.6603e-01,  5.0000e-01,  6.1232e-17, -5.0000e-01,\n",
      "        -8.6603e-01, -1.0000e+00, -8.6603e-01, -5.0000e-01, -1.8370e-16,\n",
      "         5.0000e-01,  8.6603e-01]), 'Y': tensor([-0.2281, -0.2055,  0.0376, -0.2119, -0.6866, -0.3827])}\n"
     ]
    }
   ],
   "source": [
    "# check contents of dict\n",
    "print(len(zip_dict_train['30002']) + 18)\n",
    "print(zip_dict_train['30002'][0])\n",
    "\n",
    "print(len(zip_dict_test['30002']) + 18)\n",
    "print(zip_dict_test['30002'][0])\n",
    "\n",
    "# for given index\n",
    "# returns X as 1x72 vector (12 months for each of the 6 input variables)\n",
    "# returns y as 1x6 vecotr (6 month prediction for sfr_rental)"
   ]
  },
  {
   "cell_type": "code",
   "execution_count": 159,
   "id": "ca229c61",
   "metadata": {},
   "outputs": [],
   "source": [
    "# Model: simple multilayer perceptron\n",
    "# sequential 3 layer model with 1 hidden dim\n",
    "\n",
    "class SFR_MODEL(nn.Module):\n",
    "    def __init__(self, indim, hdim, outdim):\n",
    "        super().__init__() # for nn.MOdule you must initialize the super class\n",
    "        self.layers = nn.Sequential(\n",
    "            nn.Linear(indim, hdim),\n",
    "            nn.Dropout(p=0.5), # introduces randomness into parameters for training\n",
    "            nn.LeakyReLU(),\n",
    "            nn.Linear(hdim, outdim),\n",
    "            nn.Tanh()\n",
    "        )\n",
    "    def forward(self, x):\n",
    "        return self.layers(x)"
   ]
  },
  {
   "cell_type": "code",
   "execution_count": 337,
   "id": "19e490c0",
   "metadata": {},
   "outputs": [],
   "source": [
    "# create instance of model\n",
    "# indim matches length of input vector\n",
    "# outdim matches length of output vector\n",
    "model = SFR_MODEL(indim = 72, hdim = 37, outdim = 6)\n",
    "\n",
    "# start with Adam as optimizer\n",
    "opt = Adam(model.parameters())\n",
    "batchsize = 3\n",
    "epochs = 150 # go though data 3x\n",
    "loss_fn = nn.MSELoss()"
   ]
  },
  {
   "cell_type": "code",
   "execution_count": 338,
   "id": "9141416c",
   "metadata": {},
   "outputs": [
    {
     "name": "stderr",
     "output_type": "stream",
     "text": [
      "100%|██████████████████████████████████████████████████| 150/150 [00:22<00:00,  6.81it/s]\n"
     ]
    }
   ],
   "source": [
    "# Train/test loop\n",
    "\n",
    "# initialize dict to store loss values for each zip\n",
    "losses_train_zip = {} \n",
    "losses_test_zip = {}\n",
    "mape_test_zip = {}\n",
    "\n",
    "\n",
    "zipcode_single = ['30002']\n",
    "\n",
    "for zipcode in zipcode_single:\n",
    "\n",
    "    # initialize list for losses\n",
    "    losses_train = []\n",
    "    losses_test = []\n",
    "    mape_test = []\n",
    "\n",
    "    for epoch in trange(epochs):\n",
    "\n",
    "        # Access train set for zipcdode, create dataloader and set model to train\n",
    "        sfr_train = zip_dict_train[zipcode]\n",
    "        train_dl = DataLoader(sfr_train, batch_size = batchsize, shuffle = True, drop_last = True)\n",
    "        model.train()\n",
    "\n",
    "        for batch in train_dl:\n",
    "\n",
    "            opt.zero_grad() # at the beginning of batch, zero out the optimizer\n",
    "\n",
    "            # use inputs and outputs to make model prediction\n",
    "            x = batch['X']\n",
    "            y = batch['Y']\n",
    "            y_hat = model(x)\n",
    "\n",
    "            loss = loss_fn(y_hat, y) # calculate loss\n",
    "            loss.backward() # calculate gradient of loss\n",
    "            opt.step() # runs the optimizer and updates model params based on gradient\n",
    "            losses_train.append(loss.cpu().detach().numpy()) # single value as a numpy\n",
    "\n",
    "        # Access test set for zipcdode, create dataloader and set model to eval\n",
    "        sfr_test = zip_dict_test[zipcode]\n",
    "        test_dl = DataLoader(sfr_test, batch_size = batchsize, shuffle = True)\n",
    "        model.eval()\n",
    "\n",
    "        for batch in test_dl:\n",
    "            with torch.no_grad():\n",
    "                x = batch['X']\n",
    "                y = batch['Y']\n",
    "                y_hat = model(x)\n",
    "            \n",
    "                mean_abs_percentage_error = MeanAbsolutePercentageError()\n",
    "                mape = mean_abs_percentage_error(y_hat, y)\n",
    "                mape_test.append(mape.cpu().detach().numpy())\n",
    "                \n",
    "                loss = loss_fn(y_hat, y)\n",
    "                losses_test.append(loss.cpu().detach().numpy())\n",
    "\n",
    "                if losses_test[-1] == min(losses_test):\n",
    "                    torch.save(model, \"../modelinfo/mlp_model_{}.pt\".format(zipcode))\n",
    "                    torch.save({'epoch': epoch,\n",
    "                                'model_state_dict': model.state_dict(),\n",
    "                                'optimizer_state_dict': opt.state_dict(),\n",
    "                                'loss': loss.cpu().detach().numpy(),\n",
    "                                }, \"../modelinfo/model_info_{}.pt\".format(zipcode))\n",
    "\n",
    "    losses_train_zip[zipcode] = losses_train\n",
    "    losses_test_zip[zipcode] = losses_test\n",
    "    mape_test_zip[zipcode] = mape_test"
   ]
  },
  {
   "cell_type": "code",
   "execution_count": 328,
   "id": "16373f06",
   "metadata": {},
   "outputs": [
    {
     "name": "stdout",
     "output_type": "stream",
     "text": [
      "3150\n",
      "150\n",
      "150\n"
     ]
    }
   ],
   "source": [
    "print(len(np.array(losses_train_zip['30002']))) # 3150 losses, so there were 21 x 150 iterations\n",
    "print(len(np.array(losses_test_zip['30002']))) # 150 losses, 1 for each epoch\n",
    "print(len(np.array(mape_test_zip['30002']))) # 150"
   ]
  },
  {
   "cell_type": "code",
   "execution_count": 343,
   "id": "91c4dd90",
   "metadata": {},
   "outputs": [
    {
     "name": "stdout",
     "output_type": "stream",
     "text": [
      "13\n",
      "0.113830246\n"
     ]
    }
   ],
   "source": [
    "checkpoint = torch.load(\"../modelinfo/model_info_30002.pt\")\n",
    "epoch = checkpoint['epoch']\n",
    "loss = checkpoint['loss']\n",
    "\n",
    "print(epoch)\n",
    "print(loss)"
   ]
  },
  {
   "cell_type": "code",
   "execution_count": 340,
   "id": "e1874e30",
   "metadata": {},
   "outputs": [
    {
     "data": {
      "text/plain": [
       "[<matplotlib.lines.Line2D at 0x7fe53a95b280>]"
      ]
     },
     "execution_count": 340,
     "metadata": {},
     "output_type": "execute_result"
    },
    {
     "data": {
      "image/png": "[encoded data removed]",
      "text/plain": [
       "<Figure size 640x480 with 1 Axes>"
      ]
     },
     "metadata": {},
     "output_type": "display_data"
    }
   ],
   "source": [
    "# plot training loss\n",
    "plt.plot(np.array(losses_train_zip['30002']))"
   ]
  },
  {
   "cell_type": "code",
   "execution_count": 341,
   "id": "0235c910",
   "metadata": {},
   "outputs": [
    {
     "data": {
      "text/plain": [
       "[<matplotlib.lines.Line2D at 0x7fe53aa91120>]"
      ]
     },
     "execution_count": 341,
     "metadata": {},
     "output_type": "execute_result"
    },
    {
     "data": {
      "image/png": "[encoded data removed]",
      "text/plain": [
       "<Figure size 640x480 with 1 Axes>"
      ]
     },
     "metadata": {},
     "output_type": "display_data"
    }
   ],
   "source": [
    "# plot test loss\n",
    "plt.plot(np.array(losses_test_zip['30002']))"
   ]
  },
  {
   "cell_type": "code",
   "execution_count": 342,
   "id": "51917ba5",
   "metadata": {},
   "outputs": [
    {
     "data": {
      "text/plain": [
       "[<matplotlib.lines.Line2D at 0x7fe53bb50460>]"
      ]
     },
     "execution_count": 342,
     "metadata": {},
     "output_type": "execute_result"
    },
    {
     "data": {
      "image/png": "[encoded data removed]",
      "text/plain": [
       "<Figure size 640x480 with 1 Axes>"
      ]
     },
     "metadata": {},
     "output_type": "display_data"
    }
   ],
   "source": [
    "plt.plot(np.array(mape_test_zip['30002']))"
   ]
  },
  {
   "cell_type": "code",
   "execution_count": null,
   "id": "f0c9f2c9",
   "metadata": {},
   "outputs": [],
   "source": []
  },
  {
   "cell_type": "code",
   "execution_count": 254,
   "id": "5a0bbb00",
   "metadata": {},
   "outputs": [
    {
     "name": "stderr",
     "output_type": "stream",
     "text": [
      "100%|██████████████████████████████████████████████████| 150/150 [00:19<00:00,  7.77it/s]\n",
      "100%|██████████████████████████████████████████████████| 150/150 [00:17<00:00,  8.55it/s]\n",
      "100%|██████████████████████████████████████████████████| 150/150 [00:17<00:00,  8.63it/s]\n",
      "100%|██████████████████████████████████████████████████| 150/150 [00:17<00:00,  8.64it/s]\n",
      "100%|██████████████████████████████████████████████████| 150/150 [00:17<00:00,  8.64it/s]\n",
      "100%|██████████████████████████████████████████████████| 150/150 [00:17<00:00,  8.51it/s]\n",
      "100%|██████████████████████████████████████████████████| 150/150 [00:18<00:00,  7.98it/s]\n",
      "100%|██████████████████████████████████████████████████| 150/150 [00:20<00:00,  7.45it/s]\n",
      "100%|██████████████████████████████████████████████████| 150/150 [00:18<00:00,  8.25it/s]\n",
      "100%|██████████████████████████████████████████████████| 150/150 [00:17<00:00,  8.61it/s]\n",
      "100%|██████████████████████████████████████████████████| 150/150 [00:18<00:00,  7.96it/s]\n",
      "100%|██████████████████████████████████████████████████| 150/150 [00:34<00:00,  4.32it/s]\n",
      "100%|██████████████████████████████████████████████████| 150/150 [00:24<00:00,  6.25it/s]\n",
      "100%|██████████████████████████████████████████████████| 150/150 [00:22<00:00,  6.57it/s]\n",
      "100%|██████████████████████████████████████████████████| 150/150 [00:18<00:00,  8.19it/s]\n",
      "100%|██████████████████████████████████████████████████| 150/150 [00:17<00:00,  8.69it/s]\n",
      "100%|██████████████████████████████████████████████████| 150/150 [00:17<00:00,  8.68it/s]\n",
      "100%|██████████████████████████████████████████████████| 150/150 [00:17<00:00,  8.55it/s]\n",
      "100%|██████████████████████████████████████████████████| 150/150 [00:17<00:00,  8.64it/s]\n",
      "100%|██████████████████████████████████████████████████| 150/150 [00:17<00:00,  8.71it/s]\n",
      "100%|██████████████████████████████████████████████████| 150/150 [00:17<00:00,  8.44it/s]\n"
     ]
    }
   ],
   "source": [
    "# Test for optimal hidden layer dimension\n",
    "\n",
    "# initialize dict to store loss values for each zip\n",
    "losses_train_dict = {} \n",
    "losses_test_dict = {}\n",
    "    \n",
    "for dim in range(35, 56):\n",
    "    \n",
    "    model = SFR_MODEL(indim = 72, hdim = dim, outdim = 6)\n",
    "    opt = Adam(model.parameters())\n",
    "    batchsize = 3\n",
    "    epochs = 150 # go though data 3x\n",
    "    loss_fn = nn.MSELoss()\n",
    "\n",
    "    # initialize list for losses\n",
    "    losses_train = []\n",
    "    losses_test = []\n",
    "\n",
    "    for epoch in trange(epochs):\n",
    "\n",
    "        # Access train set for zipcdode, create dataloader and set model to train\n",
    "        sfr_train = zip_dict_train['30002']\n",
    "        train_dl = DataLoader(sfr_train, batch_size = batchsize, shuffle = True, drop_last = True)\n",
    "        model.train()\n",
    "\n",
    "        for batch in train_dl:\n",
    "\n",
    "            opt.zero_grad() # at the beginning of batch, zero out the optimizer\n",
    "\n",
    "            # use inputs and outputs to make model prediction\n",
    "            x = batch['X']\n",
    "            y = batch['Y']\n",
    "            y_hat = model(x)\n",
    "\n",
    "            loss = loss_fn(y_hat, y) # calculate loss\n",
    "            loss.backward() # calculate gradient of loss\n",
    "            opt.step() # runs the optimizer and updates model params based on gradient\n",
    "            losses_train.append(loss.cpu().detach().numpy()) # single value as a numpy\n",
    "\n",
    "        # Access test set for zipcdode, create dataloader and set model to eval\n",
    "        sfr_test = zip_dict_test['30002']\n",
    "        test_dl = DataLoader(sfr_test, batch_size = batchsize, shuffle = True)\n",
    "        model.eval()\n",
    "\n",
    "        for batch in test_dl:\n",
    "            with torch.no_grad():\n",
    "                x = batch['X']\n",
    "                y = batch['Y']\n",
    "                y_hat = model(x)\n",
    "                loss = loss_fn(y_hat, y)\n",
    "                losses_test.append(loss.cpu().detach().numpy())\n",
    "\n",
    "                if losses_test[-1] == min(losses_test):\n",
    "                    torch.save(model, '../modelinfo/mlp_model_{}.pt\".format(dim)')\n",
    "                    torch.save({'epoch': epoch,\n",
    "                                'model_state_dict': model.state_dict(),\n",
    "                                'optimizer_state_dict': opt.state_dict(),\n",
    "                                'loss': loss.cpu().detach().numpy(),\n",
    "                                }, \"../modelinfo/model_info_{}.pt\".format(dim))\n",
    "\n",
    "    losses_train_dict[dim] = losses_train\n",
    "    losses_test_dict[dim] = losses_test"
   ]
  },
  {
   "cell_type": "code",
   "execution_count": 256,
   "id": "cfddac13",
   "metadata": {
    "scrolled": true
   },
   "outputs": [
    {
     "data": {
      "text/html": [
       "<div>\n",
       "<style scoped>\n",
       "    .dataframe tbody tr th:only-of-type {\n",
       "        vertical-align: middle;\n",
       "    }\n",
       "\n",
       "    .dataframe tbody tr th {\n",
       "        vertical-align: top;\n",
       "    }\n",
       "\n",
       "    .dataframe thead th {\n",
       "        text-align: right;\n",
       "    }\n",
       "</style>\n",
       "<table border=\"1\" class=\"dataframe\">\n",
       "  <thead>\n",
       "    <tr style=\"text-align: right;\">\n",
       "      <th></th>\n",
       "      <th>hdim</th>\n",
       "      <th>epoch</th>\n",
       "      <th>loss</th>\n",
       "    </tr>\n",
       "  </thead>\n",
       "  <tbody>\n",
       "    <tr>\n",
       "      <th>0</th>\n",
       "      <td>hdim_35.pt</td>\n",
       "      <td>19</td>\n",
       "      <td>0.079413064</td>\n",
       "    </tr>\n",
       "    <tr>\n",
       "      <th>1</th>\n",
       "      <td>hdim_36.pt</td>\n",
       "      <td>14</td>\n",
       "      <td>0.08461839</td>\n",
       "    </tr>\n",
       "    <tr>\n",
       "      <th>2</th>\n",
       "      <td>hdim_37.pt</td>\n",
       "      <td>13</td>\n",
       "      <td>0.035723954</td>\n",
       "    </tr>\n",
       "    <tr>\n",
       "      <th>3</th>\n",
       "      <td>hdim_38.pt</td>\n",
       "      <td>16</td>\n",
       "      <td>0.049715877</td>\n",
       "    </tr>\n",
       "    <tr>\n",
       "      <th>4</th>\n",
       "      <td>hdim_39.pt</td>\n",
       "      <td>18</td>\n",
       "      <td>0.13931565</td>\n",
       "    </tr>\n",
       "    <tr>\n",
       "      <th>5</th>\n",
       "      <td>hdim_40.pt</td>\n",
       "      <td>7</td>\n",
       "      <td>0.13384746</td>\n",
       "    </tr>\n",
       "    <tr>\n",
       "      <th>6</th>\n",
       "      <td>hdim_41.pt</td>\n",
       "      <td>22</td>\n",
       "      <td>0.08785221</td>\n",
       "    </tr>\n",
       "    <tr>\n",
       "      <th>7</th>\n",
       "      <td>hdim_42.pt</td>\n",
       "      <td>8</td>\n",
       "      <td>0.067629926</td>\n",
       "    </tr>\n",
       "    <tr>\n",
       "      <th>8</th>\n",
       "      <td>hdim_43.pt</td>\n",
       "      <td>20</td>\n",
       "      <td>0.09534913</td>\n",
       "    </tr>\n",
       "    <tr>\n",
       "      <th>9</th>\n",
       "      <td>hdim_44.pt</td>\n",
       "      <td>20</td>\n",
       "      <td>0.12443051</td>\n",
       "    </tr>\n",
       "    <tr>\n",
       "      <th>10</th>\n",
       "      <td>hdim_45.pt</td>\n",
       "      <td>11</td>\n",
       "      <td>0.05364391</td>\n",
       "    </tr>\n",
       "    <tr>\n",
       "      <th>11</th>\n",
       "      <td>hdim_46.pt</td>\n",
       "      <td>2</td>\n",
       "      <td>0.076178774</td>\n",
       "    </tr>\n",
       "    <tr>\n",
       "      <th>12</th>\n",
       "      <td>hdim_47.pt</td>\n",
       "      <td>35</td>\n",
       "      <td>0.09379575</td>\n",
       "    </tr>\n",
       "    <tr>\n",
       "      <th>13</th>\n",
       "      <td>hdim_48.pt</td>\n",
       "      <td>11</td>\n",
       "      <td>0.040518496</td>\n",
       "    </tr>\n",
       "    <tr>\n",
       "      <th>14</th>\n",
       "      <td>hdim_49.pt</td>\n",
       "      <td>3</td>\n",
       "      <td>0.04838723</td>\n",
       "    </tr>\n",
       "    <tr>\n",
       "      <th>15</th>\n",
       "      <td>hdim_50.pt</td>\n",
       "      <td>1</td>\n",
       "      <td>0.077976756</td>\n",
       "    </tr>\n",
       "    <tr>\n",
       "      <th>16</th>\n",
       "      <td>hdim_51.pt</td>\n",
       "      <td>11</td>\n",
       "      <td>0.053000282</td>\n",
       "    </tr>\n",
       "    <tr>\n",
       "      <th>17</th>\n",
       "      <td>hdim_52.pt</td>\n",
       "      <td>1</td>\n",
       "      <td>0.05991361</td>\n",
       "    </tr>\n",
       "    <tr>\n",
       "      <th>18</th>\n",
       "      <td>hdim_53.pt</td>\n",
       "      <td>18</td>\n",
       "      <td>0.09566387</td>\n",
       "    </tr>\n",
       "    <tr>\n",
       "      <th>19</th>\n",
       "      <td>hdim_54.pt</td>\n",
       "      <td>2</td>\n",
       "      <td>0.084422536</td>\n",
       "    </tr>\n",
       "    <tr>\n",
       "      <th>20</th>\n",
       "      <td>hdim_55.pt</td>\n",
       "      <td>11</td>\n",
       "      <td>0.06976686</td>\n",
       "    </tr>\n",
       "  </tbody>\n",
       "</table>\n",
       "</div>"
      ],
      "text/plain": [
       "          hdim  epoch         loss\n",
       "0   hdim_35.pt     19  0.079413064\n",
       "1   hdim_36.pt     14   0.08461839\n",
       "2   hdim_37.pt     13  0.035723954\n",
       "3   hdim_38.pt     16  0.049715877\n",
       "4   hdim_39.pt     18   0.13931565\n",
       "5   hdim_40.pt      7   0.13384746\n",
       "6   hdim_41.pt     22   0.08785221\n",
       "7   hdim_42.pt      8  0.067629926\n",
       "8   hdim_43.pt     20   0.09534913\n",
       "9   hdim_44.pt     20   0.12443051\n",
       "10  hdim_45.pt     11   0.05364391\n",
       "11  hdim_46.pt      2  0.076178774\n",
       "12  hdim_47.pt     35   0.09379575\n",
       "13  hdim_48.pt     11  0.040518496\n",
       "14  hdim_49.pt      3   0.04838723\n",
       "15  hdim_50.pt      1  0.077976756\n",
       "16  hdim_51.pt     11  0.053000282\n",
       "17  hdim_52.pt      1   0.05991361\n",
       "18  hdim_53.pt     18   0.09566387\n",
       "19  hdim_54.pt      2  0.084422536\n",
       "20  hdim_55.pt     11   0.06976686"
      ]
     },
     "execution_count": 256,
     "metadata": {},
     "output_type": "execute_result"
    }
   ],
   "source": [
    "hdim_loss = pd.DataFrame(columns = ['hdim', 'epoch', 'loss'])\n",
    "\n",
    "for dim in range(35, 56):\n",
    "\n",
    "    checkpoint = torch.load(\"model_info_{}.pt\".format(dim))\n",
    "    epoch = checkpoint['epoch']\n",
    "    loss = checkpoint['loss'] \n",
    "    \n",
    "    output_dim = []\n",
    "    output_dim.append(\"hdim_{}.pt\".format(dim))\n",
    "    output_dim.append(epoch)\n",
    "    output_dim.append(loss)\n",
    "    hdim_loss.loc[len(hdim_loss)] = output_dim\n",
    "    \n",
    "hdim_loss\n",
    "\n",
    "# highest epoch: 35 (hdim = 47)\n",
    "# lowest loss: .035 (hdim = 37)"
   ]
  },
  {
   "cell_type": "code",
   "execution_count": 259,
   "id": "a4c95619",
   "metadata": {},
   "outputs": [
    {
     "data": {
      "text/plain": [
       "[<matplotlib.lines.Line2D at 0x7fe54dade920>]"
      ]
     },
     "execution_count": 259,
     "metadata": {},
     "output_type": "execute_result"
    },
    {
     "data": {
      "image/png": "[encoded data removed]",
      "text/plain": [
       "<Figure size 640x480 with 1 Axes>"
      ]
     },
     "metadata": {},
     "output_type": "display_data"
    }
   ],
   "source": [
    "plt.plot(np.array(losses_test_dict[37]))"
   ]
  },
  {
   "cell_type": "code",
   "execution_count": 260,
   "id": "31cd8dfa",
   "metadata": {},
   "outputs": [
    {
     "data": {
      "text/plain": [
       "[<matplotlib.lines.Line2D at 0x7fe54db694e0>]"
      ]
     },
     "execution_count": 260,
     "metadata": {},
     "output_type": "execute_result"
    },
    {
     "data": {
      "image/png": "[encoded data removed]",
      "text/plain": [
       "<Figure size 640x480 with 1 Axes>"
      ]
     },
     "metadata": {},
     "output_type": "display_data"
    }
   ],
   "source": [
    "plt.plot(np.array(losses_test_dict[47]))"
   ]
  },
  {
   "cell_type": "code",
   "execution_count": null,
   "id": "164b2a40",
   "metadata": {},
   "outputs": [],
   "source": []
  },
  {
   "cell_type": "code",
   "execution_count": 344,
   "id": "dc97de94",
   "metadata": {},
   "outputs": [],
   "source": [
    "# create instance of model\n",
    "# indim matches length of input vector\n",
    "# outdim matches length of output vector\n",
    "model = SFR_MODEL(indim = 72, hdim = 37, outdim = 6)\n",
    "\n",
    "# start with Adam as optimizer\n",
    "opt = Adam(model.parameters())\n",
    "batchsize = 3\n",
    "epochs = 150 # go though data 3x\n",
    "loss_fn = nn.MSELoss()"
   ]
  },
  {
   "cell_type": "code",
   "execution_count": null,
   "id": "3d9f5edb",
   "metadata": {},
   "outputs": [],
   "source": [
    "# Train/test loop: ALL ZIPS\n",
    "\n",
    "# initialize dict to store loss values for each zip\n",
    "losses_train_zip = {} \n",
    "losses_test_zip = {}\n",
    "mape_test_zip = {}\n",
    "\n",
    "for zipcode in df['census_zcta5_geoid'].unique():\n",
    "\n",
    "    # initialize list for losses\n",
    "    losses_train = []\n",
    "    losses_test = []\n",
    "    mape_test = []\n",
    "\n",
    "    for epoch in trange(epochs):\n",
    "\n",
    "        # Access train set for zipcdode, create dataloader and set model to train\n",
    "        sfr_train = zip_dict_train[zipcode]\n",
    "        train_dl = DataLoader(sfr_train, batch_size = batchsize, shuffle = True, drop_last = True)\n",
    "        model.train()\n",
    "\n",
    "        for batch in train_dl:\n",
    "\n",
    "            opt.zero_grad() # at the beginning of batch, zero out the optimizer\n",
    "\n",
    "            # use inputs and outputs to make model prediction\n",
    "            x = batch['X']\n",
    "            y = batch['Y']\n",
    "            y_hat = model(x)\n",
    "\n",
    "            loss = loss_fn(y_hat, y) # calculate loss\n",
    "            loss.backward() # calculate gradient of loss\n",
    "            opt.step() # runs the optimizer and updates model params based on gradient\n",
    "            losses_train.append(loss.cpu().detach().numpy()) # single value as a numpy\n",
    "\n",
    "        # Access test set for zipcdode, create dataloader and set model to eval\n",
    "        sfr_test = zip_dict_test[zipcode]\n",
    "        test_dl = DataLoader(sfr_test, batch_size = batchsize, shuffle = True)\n",
    "        model.eval()\n",
    "\n",
    "        for batch in test_dl:\n",
    "            with torch.no_grad():\n",
    "                x = batch['X']\n",
    "                y = batch['Y']\n",
    "                y_hat = model(x)\n",
    "            \n",
    "                mean_abs_percentage_error = MeanAbsolutePercentageError()\n",
    "                mape = mean_abs_percentage_error(y_hat, y)\n",
    "                mape_test.append(mape.cpu().detach().numpy())\n",
    "                \n",
    "                loss = loss_fn(y_hat, y)\n",
    "                losses_test.append(loss.cpu().detach().numpy())\n",
    "\n",
    "                if losses_test[-1] == min(losses_test):\n",
    "                    torch.save(model, \"../modelinfo/mlp_model_{}.pt\".format(zipcode))\n",
    "                    torch.save({'epoch': epoch,\n",
    "                                'model_state_dict': model.state_dict(),\n",
    "                                'optimizer_state_dict': opt.state_dict(),\n",
    "                                'loss': loss.cpu().detach().numpy(),\n",
    "                                }, \"../modelinfo/model_info_{}.pt\".format(zipcode))\n",
    "\n",
    "    losses_train_zip[zipcode] = losses_train\n",
    "    losses_test_zip[zipcode] = losses_test\n",
    "    mape_test_zip[zipcode] = mape_test"
   ]
  },
  {
   "cell_type": "code",
   "execution_count": null,
   "id": "aa53d5ea",
   "metadata": {},
   "outputs": [],
   "source": []
  }
 ],
 "metadata": {
  "kernelspec": {
   "display_name": "Python 3 (ipykernel)",
   "language": "python",
   "name": "python3"
  },
  "language_info": {
   "codemirror_mode": {
    "name": "ipython",
    "version": 3
   },
   "file_extension": ".py",
   "mimetype": "text/x-python",
   "name": "python",
   "nbconvert_exporter": "python",
   "pygments_lexer": "ipython3",
   "version": "3.10.9"
  }
 },
 "nbformat": 4,
 "nbformat_minor": 5
}
