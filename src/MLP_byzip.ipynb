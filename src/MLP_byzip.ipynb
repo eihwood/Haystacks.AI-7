{
 "cells": [
  {
   "cell_type": "code",
   "execution_count": 2,
   "id": "b9c3072e",
   "metadata": {},
   "outputs": [],
   "source": [
    "# General\n",
    "import pickle\n",
    "import pandas as pd\n",
    "import numpy as np\n",
    "import math\n",
    "import datetime\n",
    "from scipy import stats\n",
    "import itertools\n",
    "from pandas.plotting import register_matplotlib_converters\n",
    "import warnings\n",
    "\n",
    "from sklearn.preprocessing import MinMaxScaler\n",
    "from sklearn.model_selection import TimeSeriesSplit\n",
    "from sklearn.compose import ColumnTransformer, make_column_selector\n",
    "\n",
    "# Plotting\n",
    "import matplotlib.pyplot as plt\n",
    "import seaborn as sns\n",
    "\n",
    "# Torch\n",
    "import torch.nn as nn\n",
    "import torch\n",
    "from torch.optim import Adam\n",
    "from torch.utils.data import Dataset, DataLoader\n",
    "from tqdm import trange\n",
    "\n",
    "# Set options\n",
    "pd.set_option(\"display.max_rows\", 500)\n",
    "pd.set_option(\"display.max_columns\", 500)\n",
    "warnings.filterwarnings('ignore')"
   ]
  },
  {
   "cell_type": "code",
   "execution_count": 3,
   "id": "1a2bd517",
   "metadata": {},
   "outputs": [],
   "source": [
    "# Load data, sort on zip and date and set index to datetime\n",
    "with open(\"../data/sfr_mfr_mig_pre-processed.pkl\", \"rb\") as f: df = pickle.load(f)\n",
    "df.sort_values(['census_cbsa_geoid', 'census_zcta5_geoid', 'date'], inplace = True)"
   ]
  },
  {
   "cell_type": "code",
   "execution_count": 4,
   "id": "6c3f3ee0",
   "metadata": {},
   "outputs": [
    {
     "data": {
      "text/plain": [
       "Index(['date', 'census_cbsa_geoid', 'census_zcta5_geoid', 'sfr_rental_index',\n",
       "       'sfr_price_index', 'coef', 'nounits', 'occupied_units', 'mfr_occ',\n",
       "       'mfr_mean_occ_index', 'mfr_mean_rent', 'mfr_mean_rent_index', 'month',\n",
       "       'cos_month', 'sin_month', 'sfr_rental_delta', 'sfr_price_delta',\n",
       "       'mfr_occ_delta', 'mfr_rental_delta', 'us_zip', 'population',\n",
       "       'student_population_fraction', 'netflow_estimated', 'inflow_estimated',\n",
       "       'outflow_estimated', 'cumulative_netflow_estimated',\n",
       "       'median_income_inflow', 'median_income', 'median_income_difference',\n",
       "       'median_age_inflow', 'median_age', 'median_age_difference',\n",
       "       'inflow_index', 'outflow_index', 'netflow_index', 'income_inflow_index',\n",
       "       'income_diff_index', 'age_inflow_index', 'age_inflow_diff_index'],\n",
       "      dtype='object')"
      ]
     },
     "execution_count": 4,
     "metadata": {},
     "output_type": "execute_result"
    }
   ],
   "source": [
    "df.columns"
   ]
  },
  {
   "cell_type": "code",
   "execution_count": 5,
   "id": "9d25bf57",
   "metadata": {},
   "outputs": [],
   "source": [
    "# subset for time frame that includes MFR data (Jan 2015 - June 2023)\n",
    "df = df.loc[(df.date >= '2015-01-01') & (df.date <= '2023-06-01')]"
   ]
  },
  {
   "cell_type": "code",
   "execution_count": 6,
   "id": "8cab0f10",
   "metadata": {},
   "outputs": [],
   "source": [
    "# drop incomplete zips\n",
    "drops = df.loc[df.mfr_occ.isna()].census_zcta5_geoid.unique().tolist()\n",
    "df.drop(df.loc[df['census_zcta5_geoid'].isin(drops)].index, inplace=True)"
   ]
  },
  {
   "cell_type": "code",
   "execution_count": 7,
   "id": "6599954d",
   "metadata": {
    "scrolled": true
   },
   "outputs": [
    {
     "data": {
      "text/html": [
       "<div>\n",
       "<style scoped>\n",
       "    .dataframe tbody tr th:only-of-type {\n",
       "        vertical-align: middle;\n",
       "    }\n",
       "\n",
       "    .dataframe tbody tr th {\n",
       "        vertical-align: top;\n",
       "    }\n",
       "\n",
       "    .dataframe thead th {\n",
       "        text-align: right;\n",
       "    }\n",
       "</style>\n",
       "<table border=\"1\" class=\"dataframe\">\n",
       "  <thead>\n",
       "    <tr style=\"text-align: right;\">\n",
       "      <th></th>\n",
       "      <th>date</th>\n",
       "      <th>census_zcta5_geoid</th>\n",
       "      <th>sfr_rental_delta</th>\n",
       "      <th>sfr_price_delta</th>\n",
       "      <th>mfr_rental_delta</th>\n",
       "      <th>mfr_occ_delta</th>\n",
       "      <th>cos_month</th>\n",
       "      <th>sin_month</th>\n",
       "    </tr>\n",
       "  </thead>\n",
       "  <tbody>\n",
       "    <tr>\n",
       "      <th>60</th>\n",
       "      <td>2015-01-01</td>\n",
       "      <td>30002</td>\n",
       "      <td>0.085159</td>\n",
       "      <td>-0.341463</td>\n",
       "      <td>0.000000</td>\n",
       "      <td>0.000000</td>\n",
       "      <td>8.660254e-01</td>\n",
       "      <td>5.000000e-01</td>\n",
       "    </tr>\n",
       "    <tr>\n",
       "      <th>61</th>\n",
       "      <td>2015-02-01</td>\n",
       "      <td>30002</td>\n",
       "      <td>0.439878</td>\n",
       "      <td>-0.128840</td>\n",
       "      <td>1.548274</td>\n",
       "      <td>0.000000</td>\n",
       "      <td>5.000000e-01</td>\n",
       "      <td>8.660254e-01</td>\n",
       "    </tr>\n",
       "    <tr>\n",
       "      <th>62</th>\n",
       "      <td>2015-03-01</td>\n",
       "      <td>30002</td>\n",
       "      <td>0.538547</td>\n",
       "      <td>0.221081</td>\n",
       "      <td>-2.154165</td>\n",
       "      <td>0.242699</td>\n",
       "      <td>6.123234e-17</td>\n",
       "      <td>1.000000e+00</td>\n",
       "    </tr>\n",
       "    <tr>\n",
       "      <th>63</th>\n",
       "      <td>2015-04-01</td>\n",
       "      <td>30002</td>\n",
       "      <td>0.487247</td>\n",
       "      <td>0.691540</td>\n",
       "      <td>-0.380059</td>\n",
       "      <td>-0.566297</td>\n",
       "      <td>-5.000000e-01</td>\n",
       "      <td>8.660254e-01</td>\n",
       "    </tr>\n",
       "    <tr>\n",
       "      <th>64</th>\n",
       "      <td>2015-05-01</td>\n",
       "      <td>30002</td>\n",
       "      <td>0.818878</td>\n",
       "      <td>1.020492</td>\n",
       "      <td>-1.564223</td>\n",
       "      <td>0.000000</td>\n",
       "      <td>-8.660254e-01</td>\n",
       "      <td>5.000000e-01</td>\n",
       "    </tr>\n",
       "    <tr>\n",
       "      <th>...</th>\n",
       "      <td>...</td>\n",
       "      <td>...</td>\n",
       "      <td>...</td>\n",
       "      <td>...</td>\n",
       "      <td>...</td>\n",
       "      <td>...</td>\n",
       "      <td>...</td>\n",
       "      <td>...</td>\n",
       "    </tr>\n",
       "    <tr>\n",
       "      <th>36073</th>\n",
       "      <td>2023-02-01</td>\n",
       "      <td>44333</td>\n",
       "      <td>0.829120</td>\n",
       "      <td>-1.346590</td>\n",
       "      <td>1.364752</td>\n",
       "      <td>0.000000</td>\n",
       "      <td>5.000000e-01</td>\n",
       "      <td>8.660254e-01</td>\n",
       "    </tr>\n",
       "    <tr>\n",
       "      <th>36074</th>\n",
       "      <td>2023-03-01</td>\n",
       "      <td>44333</td>\n",
       "      <td>0.681663</td>\n",
       "      <td>0.183288</td>\n",
       "      <td>0.772582</td>\n",
       "      <td>-0.288840</td>\n",
       "      <td>6.123234e-17</td>\n",
       "      <td>1.000000e+00</td>\n",
       "    </tr>\n",
       "    <tr>\n",
       "      <th>36075</th>\n",
       "      <td>2023-04-01</td>\n",
       "      <td>44333</td>\n",
       "      <td>0.921771</td>\n",
       "      <td>1.030017</td>\n",
       "      <td>0.321551</td>\n",
       "      <td>0.000000</td>\n",
       "      <td>-5.000000e-01</td>\n",
       "      <td>8.660254e-01</td>\n",
       "    </tr>\n",
       "    <tr>\n",
       "      <th>36076</th>\n",
       "      <td>2023-05-01</td>\n",
       "      <td>44333</td>\n",
       "      <td>1.335976</td>\n",
       "      <td>1.802781</td>\n",
       "      <td>0.020864</td>\n",
       "      <td>-0.286548</td>\n",
       "      <td>-8.660254e-01</td>\n",
       "      <td>5.000000e-01</td>\n",
       "    </tr>\n",
       "    <tr>\n",
       "      <th>36077</th>\n",
       "      <td>2023-06-01</td>\n",
       "      <td>44333</td>\n",
       "      <td>-0.145938</td>\n",
       "      <td>0.867492</td>\n",
       "      <td>-1.370889</td>\n",
       "      <td>0.000000</td>\n",
       "      <td>-1.000000e+00</td>\n",
       "      <td>1.224647e-16</td>\n",
       "    </tr>\n",
       "  </tbody>\n",
       "</table>\n",
       "<p>18462 rows × 8 columns</p>\n",
       "</div>"
      ],
      "text/plain": [
       "            date census_zcta5_geoid  sfr_rental_delta  sfr_price_delta  \\\n",
       "60    2015-01-01              30002          0.085159        -0.341463   \n",
       "61    2015-02-01              30002          0.439878        -0.128840   \n",
       "62    2015-03-01              30002          0.538547         0.221081   \n",
       "63    2015-04-01              30002          0.487247         0.691540   \n",
       "64    2015-05-01              30002          0.818878         1.020492   \n",
       "...          ...                ...               ...              ...   \n",
       "36073 2023-02-01              44333          0.829120        -1.346590   \n",
       "36074 2023-03-01              44333          0.681663         0.183288   \n",
       "36075 2023-04-01              44333          0.921771         1.030017   \n",
       "36076 2023-05-01              44333          1.335976         1.802781   \n",
       "36077 2023-06-01              44333         -0.145938         0.867492   \n",
       "\n",
       "       mfr_rental_delta  mfr_occ_delta     cos_month     sin_month  \n",
       "60             0.000000       0.000000  8.660254e-01  5.000000e-01  \n",
       "61             1.548274       0.000000  5.000000e-01  8.660254e-01  \n",
       "62            -2.154165       0.242699  6.123234e-17  1.000000e+00  \n",
       "63            -0.380059      -0.566297 -5.000000e-01  8.660254e-01  \n",
       "64            -1.564223       0.000000 -8.660254e-01  5.000000e-01  \n",
       "...                 ...            ...           ...           ...  \n",
       "36073          1.364752       0.000000  5.000000e-01  8.660254e-01  \n",
       "36074          0.772582      -0.288840  6.123234e-17  1.000000e+00  \n",
       "36075          0.321551       0.000000 -5.000000e-01  8.660254e-01  \n",
       "36076          0.020864      -0.286548 -8.660254e-01  5.000000e-01  \n",
       "36077         -1.370889       0.000000 -1.000000e+00  1.224647e-16  \n",
       "\n",
       "[18462 rows x 8 columns]"
      ]
     },
     "execution_count": 7,
     "metadata": {},
     "output_type": "execute_result"
    }
   ],
   "source": [
    "# Keep only desired columns\n",
    "df = df[['date', 'census_zcta5_geoid', 'sfr_rental_delta', 'sfr_price_delta', \n",
    "         'mfr_rental_delta', 'mfr_occ_delta', 'cos_month', 'sin_month']]\n",
    "df"
   ]
  },
  {
   "cell_type": "code",
   "execution_count": 8,
   "id": "938daa2b",
   "metadata": {},
   "outputs": [
    {
     "name": "stdout",
     "output_type": "stream",
     "text": [
      "[3, 4, 5]\n",
      "[6, 7, 8]\n"
     ]
    }
   ],
   "source": [
    "array = [3, 4, 5, 6, 7, 8, 9]\n",
    "\n",
    "print(array[0:3])\n",
    "print(array[3:6])"
   ]
  },
  {
   "cell_type": "code",
   "execution_count": 51,
   "id": "38ab5777",
   "metadata": {},
   "outputs": [],
   "source": [
    "# Define class\n",
    "\n",
    "class SFR_DATASET(Dataset):\n",
    "    def __init__(self, df):\n",
    "        self.data = df.to_dict('records') # random access is easier with dictionaries\n",
    "    \n",
    "    def __len__(self): \n",
    "        return len(self.data) - 18  # subtract length of input + output\n",
    "    \n",
    "    def __getitem__(self, idx): \n",
    "        \n",
    "        input = pd.DataFrame(self.data[idx:idx+12])\n",
    "        output = pd.DataFrame(self.data[idx+12:idx+18])\n",
    "        \n",
    "        # each of these are 12x1 tensors (12 months of data)\n",
    "        in_sfr = torch.tensor(input['sfr_rental_delta']) \n",
    "        in_sfp = torch.tensor(input['sfr_price_delta'])\n",
    "        in_mfr = torch.tensor(input['mfr_rental_delta'])\n",
    "        in_mfo = torch.tensor(input['mfr_occ_delta'])\n",
    "        in_sinm = torch.tensor(input['sin_month'])\n",
    "        in_cosm = torch.tensor(input['cos_month']) \n",
    "        x = torch.cat((in_sfr, in_sfp, in_mfr, in_mfo, in_sinm, in_cosm), dim = 0) # concat into 72-wide vector\n",
    "        y = torch.tensor(output['sfr_rental_delta'])\n",
    "        return {'X':x.float(), 'Y':y.float()}"
   ]
  },
  {
   "cell_type": "code",
   "execution_count": 33,
   "id": "2d294ab0",
   "metadata": {},
   "outputs": [],
   "source": [
    "# Define scaler\n",
    "scaler = MinMaxScaler(feature_range=(-1, 1))\n",
    "\n",
    "col_transform = ColumnTransformer(\n",
    "    transformers=[\n",
    "        (\"num\", MinMaxScaler(feature_range=(-1, 1)), make_column_selector(dtype_include=np.number))], \n",
    "        remainder='passthrough',\n",
    "        verbose_feature_names_out = False\n",
    ")"
   ]
  },
  {
   "cell_type": "code",
   "execution_count": 86,
   "id": "6bf5b2c5",
   "metadata": {},
   "outputs": [],
   "source": [
    "# Create zip dict to store class for each zip\n",
    "zip_dict_train = {}\n",
    "zip_dict_test = {}\n",
    "\n",
    "# Cast the class, separating out by zipcdoe\n",
    "for zipcode in df['census_zcta5_geoid'].unique():\n",
    "    \n",
    "    # Filter for single zipcode\n",
    "    zipcode_df = df[df['census_zcta5_geoid'] == zipcode]\n",
    "    \n",
    "    # Train test split\n",
    "    \n",
    "    # original split\n",
    "    #df_train = zipcode_df.loc[(df.date < '2022-01-01')]\n",
    "    #df_test = zipcode_df.loc[(df.date >= '2022-01-01')]\n",
    "    \n",
    "    # try longer test set\n",
    "    df_train = zipcode_df.loc[(df.date < '2021-12-01')]\n",
    "    df_test = zipcode_df.loc[(df.date >= '2021-12-01')]\n",
    "    \n",
    "    # Transform training data, cast class and store\n",
    "    train_X = col_transform.fit_transform(df_train)\n",
    "    train_X = pd.DataFrame(train_X, columns = col_transform.get_feature_names_out())\n",
    "    train_sfr = SFR_DATASET(train_X)\n",
    "    zip_dict_train[zipcode] = train_sfr\n",
    "    \n",
    "    # Transform testing data, cast class and store\n",
    "    test_X = col_transform.fit_transform(df_test)\n",
    "    test_X = pd.DataFrame(test_X, columns = col_transform.get_feature_names_out())\n",
    "    test_sfr = SFR_DATASET(test_X)\n",
    "    zip_dict_test[zipcode] = test_sfr"
   ]
  },
  {
   "cell_type": "code",
   "execution_count": 50,
   "id": "5f6ef255",
   "metadata": {},
   "outputs": [
    {
     "data": {
      "text/plain": [
       "{'X': tensor([ 5.6518e-01,  1.0000e+00,  1.8566e-01, -9.6448e-01, -3.7743e-01,\n",
       "         -7.4087e-01, -2.1021e-01, -1.8708e-01,  6.1639e-02, -1.9362e-01,\n",
       "         -6.7935e-01, -3.6836e-01,  1.0000e+00,  3.4996e-01,  4.5880e-01,\n",
       "         -2.4984e-01, -4.6485e-01, -1.0000e+00, -9.8710e-01, -8.2823e-01,\n",
       "         -6.6368e-01, -8.6992e-02, -1.1738e-01,  2.7029e-01,  6.0190e-01,\n",
       "         -1.6949e-01, -6.1717e-01, -5.3603e-01, -3.0210e-02, -6.6047e-01,\n",
       "          5.8211e-01, -1.0000e+00,  3.5764e-01, -2.3691e-01, -3.3981e-01,\n",
       "          3.1237e-01,  6.1396e-01,  7.3663e-01,  2.0990e-01,  1.6601e-01,\n",
       "          1.2212e-01, -9.5611e-01, -3.8548e-01, -1.0000e+00, -1.2212e-01,\n",
       "          7.1187e-01, -3.8548e-01,  1.0000e+00,  1.2246e-16, -5.0000e-01,\n",
       "         -8.6603e-01, -1.0000e+00, -8.6603e-01, -5.0000e-01, -2.4493e-16,\n",
       "          5.0000e-01,  8.6603e-01,  1.0000e+00,  8.6603e-01,  5.0000e-01,\n",
       "         -1.0000e+00, -8.6603e-01, -5.0000e-01, -1.8370e-16,  5.0000e-01,\n",
       "          8.6603e-01,  1.0000e+00,  8.6603e-01,  5.0000e-01,  6.1232e-17,\n",
       "         -5.0000e-01, -8.6603e-01]),\n",
       " 'Y': tensor([-1.])}"
      ]
     },
     "execution_count": 50,
     "metadata": {},
     "output_type": "execute_result"
    }
   ],
   "source": [
    "zip_dict_test['30002'][5] # only 0, 1, 2, 3, 4, 5"
   ]
  },
  {
   "cell_type": "code",
   "execution_count": 87,
   "id": "4d3fca27",
   "metadata": {},
   "outputs": [
    {
     "name": "stdout",
     "output_type": "stream",
     "text": [
      "84\n",
      "18\n"
     ]
    }
   ],
   "source": [
    "zipcode_df = df[df['census_zcta5_geoid'] == '30002']\n",
    "df_train = zipcode_df.loc[(df.date < '2022-01-01')]\n",
    "df_test = zipcode_df.loc[(df.date >= '2022-01-01')]\n",
    "\n",
    "print(len(df_train))\n",
    "print(len(df_test))"
   ]
  },
  {
   "cell_type": "code",
   "execution_count": 88,
   "id": "e64f380e",
   "metadata": {},
   "outputs": [
    {
     "name": "stdout",
     "output_type": "stream",
     "text": [
      "83\n",
      "{'X': tensor([-1.0000e+00, -7.3362e-01, -6.5953e-01, -6.9805e-01, -4.4901e-01,\n",
      "        -5.4270e-01, -4.3483e-01, -7.6435e-01, -7.1402e-01, -7.9240e-01,\n",
      "        -9.2652e-01, -9.0846e-01, -8.0106e-01, -6.4592e-01, -3.9060e-01,\n",
      "        -4.7322e-02,  1.9270e-01, -4.9943e-01,  5.4419e-01,  8.4357e-01,\n",
      "         8.7634e-02, -2.1854e-01, -5.0432e-01, -2.8387e-01, -2.6338e-01,\n",
      "        -9.6415e-02, -4.9568e-01, -3.0436e-01, -4.3206e-01, -3.9460e-01,\n",
      "        -5.0374e-01,  1.2117e-01, -2.1214e-01, -1.9494e-01, -7.2910e-02,\n",
      "        -1.2560e-02,  1.2108e-01,  1.2108e-01,  2.9970e-01, -2.9572e-01,\n",
      "         1.2108e-01,  3.5924e-01, -1.1709e-01,  3.6798e-01,  6.5695e-01,\n",
      "         2.4016e-01,  1.2108e-01,  2.9970e-01,  5.0000e-01,  8.6603e-01,\n",
      "         1.0000e+00,  8.6603e-01,  5.0000e-01,  1.2246e-16, -5.0000e-01,\n",
      "        -8.6603e-01, -1.0000e+00, -8.6603e-01, -5.0000e-01, -2.4493e-16,\n",
      "         8.6603e-01,  5.0000e-01,  6.1232e-17, -5.0000e-01, -8.6603e-01,\n",
      "        -1.0000e+00, -8.6603e-01, -5.0000e-01, -1.8370e-16,  5.0000e-01,\n",
      "         8.6603e-01,  1.0000e+00]), 'Y': tensor([-0.7941, -0.5946, -0.5692, -0.4795, -0.5433, -0.5015])}\n",
      "19\n",
      "{'X': tensor([ 1.0000e+00,  4.0086e-01,  4.9396e-01,  5.6742e-01,  6.7550e-01,\n",
      "         5.8441e-01,  5.2969e-01,  9.5465e-01,  1.5878e-01, -9.6529e-01,\n",
      "        -3.9155e-01, -7.4675e-01,  2.0663e-01,  6.5979e-01,  2.5881e-01,\n",
      "         3.4293e-01,  7.4846e-01,  7.9450e-01,  1.0000e+00,  3.4996e-01,\n",
      "         4.5880e-01, -2.4984e-01, -4.6485e-01, -1.0000e+00, -2.6372e-01,\n",
      "         1.9859e-01, -4.8253e-01,  5.8551e-01,  6.1946e-01,  1.0000e+00,\n",
      "         6.0190e-01, -1.6949e-01, -6.1717e-01, -5.3603e-01, -3.0210e-02,\n",
      "        -6.6047e-01, -8.3230e-01, -6.7473e-01, -4.9015e-01, -3.6747e-01,\n",
      "        -3.6747e-01,  7.3663e-01,  6.1396e-01,  7.3663e-01,  2.0990e-01,\n",
      "         1.6601e-01,  1.2212e-01, -9.5611e-01, -2.4493e-16,  5.0000e-01,\n",
      "         8.6603e-01,  1.0000e+00,  8.6603e-01,  5.0000e-01,  1.2246e-16,\n",
      "        -5.0000e-01, -8.6603e-01, -1.0000e+00, -8.6603e-01, -5.0000e-01,\n",
      "         1.0000e+00,  8.6603e-01,  5.0000e-01,  6.1232e-17, -5.0000e-01,\n",
      "        -8.6603e-01, -1.0000e+00, -8.6603e-01, -5.0000e-01, -1.8370e-16,\n",
      "         5.0000e-01,  8.6603e-01]), 'Y': tensor([-0.2281, -0.2055,  0.0376, -0.2119, -0.6866, -0.3827])}\n"
     ]
    }
   ],
   "source": [
    "# check contents of dict\n",
    "print(len(zip_dict_train['30002']) + 18)\n",
    "print(zip_dict_train['30002'][0])\n",
    "\n",
    "print(len(zip_dict_test['30002']) + 18)\n",
    "print(zip_dict_test['30002'][0])\n",
    "\n",
    "# for given index\n",
    "# returns X as 1x72 vector (12 months for each of the 6 input variables)\n",
    "# returns y as 1x6 vecotr (6 month prediction for sfr_rental)"
   ]
  },
  {
   "cell_type": "code",
   "execution_count": 78,
   "id": "34f08322",
   "metadata": {},
   "outputs": [],
   "source": [
    "# Model: simple multilayer perceptron\n",
    "# sequential 3 layer model with 1 hidden dim\n",
    "\n",
    "class SFR_MODEL(nn.Module):\n",
    "    def __init__(self, indim, hdim, outdim):\n",
    "        super().__init__() # for nn.MOdule you must initialize the super class\n",
    "        self.layers = nn.Sequential(\n",
    "            nn.Linear(indim, hdim),\n",
    "            nn.Dropout(p=0.5),\n",
    "            nn.LeakyReLU(),\n",
    "            nn.Linear(hdim, outdim),\n",
    "            nn.Tanh()\n",
    "        )\n",
    "    def forward(self, x):\n",
    "        return self.layers(x)"
   ]
  },
  {
   "cell_type": "code",
   "execution_count": 79,
   "id": "b6047ee5",
   "metadata": {},
   "outputs": [
    {
     "name": "stdout",
     "output_type": "stream",
     "text": [
      "SFR_MODEL(\n",
      "  (layers): Sequential(\n",
      "    (0): Linear(in_features=72, out_features=36, bias=True)\n",
      "    (1): Dropout(p=0.5, inplace=False)\n",
      "    (2): LeakyReLU(negative_slope=0.01)\n",
      "    (3): Linear(in_features=36, out_features=6, bias=True)\n",
      "    (4): Tanh()\n",
      "  )\n",
      ")\n"
     ]
    }
   ],
   "source": [
    "# create instance of model\n",
    "\n",
    "# indim matches length of input vector\n",
    "# outdim matches length of output vector\n",
    "# hdim?\n",
    "\n",
    "model = SFR_MODEL(indim = 72, hdim = 36, outdim = 6)\n",
    "print(model)"
   ]
  },
  {
   "cell_type": "code",
   "execution_count": 80,
   "id": "ee93e19e",
   "metadata": {},
   "outputs": [],
   "source": [
    "# set up training loop\n",
    "# optimizer - Adam good to start with\n",
    "# datalaoder - wrap around dataset to shuffle through batches\n",
    "\n",
    "opt = Adam(model.parameters())\n",
    "batchsize = 3\n",
    "epochs = 150 # go though data 3x\n",
    "loss_fn = nn.MSELoss()"
   ]
  },
  {
   "cell_type": "code",
   "execution_count": 149,
   "id": "9cee5d89",
   "metadata": {},
   "outputs": [
    {
     "name": "stderr",
     "output_type": "stream",
     "text": [
      "100%|██████████████████████████████████████████████████| 150/150 [00:19<00:00,  7.70it/s]\n"
     ]
    }
   ],
   "source": [
    "# Training loop\n",
    "# one zip for now\n",
    "\n",
    "zipcode_single = ['30002']\n",
    "\n",
    "# initialize dict to store loss values for each zip\n",
    "losses_train_dict = {} \n",
    "losses_test_dict = {}\n",
    "\n",
    "for zipcode in zipcode_single:\n",
    "    \n",
    "    # initialize list for zip-level losses\n",
    "    losses_train = []\n",
    "    losses_test = []\n",
    "    \n",
    "    for epoch in trange(epochs):\n",
    "        \n",
    "        # Access train set for zipcdode, create dataloader and set model to train\n",
    "        sfr_train = zip_dict_train[zipcode]\n",
    "        train_dl = DataLoader(sfr_train, batch_size = batchsize, shuffle = True, drop_last = True)\n",
    "        model.train()\n",
    "        \n",
    "        for batch in train_dl:\n",
    "            \n",
    "            opt.zero_grad() # at the beginning of batch, zero out the optimizer\n",
    "        \n",
    "            # use inputs and outputs to make model prediction\n",
    "            x = batch['X']\n",
    "            y = batch['Y']\n",
    "            y_hat = model(x)\n",
    "        \n",
    "            loss = loss_fn(y_hat, y) # calculate loss\n",
    "            loss.backward() # calculate gradient of loss\n",
    "            opt.step() # runs the optimizer and updates model params based on gradient\n",
    "            losses_train.append(loss.cpu().detach().numpy()) # single value as a numpy\n",
    "        \n",
    "        # Access yest set for zipcdode, create dataloader and set model to eval\n",
    "        sfr_test = zip_dict_test[zipcode]\n",
    "        test_dl = DataLoader(sfr_test, batch_size = batchsize, shuffle = True)\n",
    "        model.eval()\n",
    "            \n",
    "        for batch in test_dl:\n",
    "            with torch.no_grad():\n",
    "                x = batch['X']\n",
    "                y = batch['Y']\n",
    "                y_hat = model(x)\n",
    "                loss = loss_fn(y_hat, y)\n",
    "                losses_test.append(loss.cpu().detach().numpy())\n",
    "                \n",
    "                if losses_test[-1] == min(losses_test):\n",
    "                    torch.save(model, 'mlp_model.pt')\n",
    "                    torch.save({'epoch': epoch,\n",
    "                                'model_state_dict': model.state_dict(),\n",
    "                                'optimizer_state_dict': opt.state_dict(),\n",
    "                                'loss': loss.cpu().detach().numpy(),\n",
    "                               }, 'model_info.pt')\n",
    "                    \n",
    "    losses_train_dict[zipcode] = losses_train\n",
    "    losses_test_dict[zipcode] = losses_test"
   ]
  },
  {
   "cell_type": "code",
   "execution_count": 150,
   "id": "b1f737a8",
   "metadata": {},
   "outputs": [
    {
     "name": "stdout",
     "output_type": "stream",
     "text": [
      "3150\n",
      "150\n"
     ]
    }
   ],
   "source": [
    "print(len(np.array(losses_train_dict['30002']))) # 3150 losses, so there were 21 x 150 iterations\n",
    "print(len(np.array(losses_test_dict['30002']))) # 150 losses, 1 for each epoch"
   ]
  },
  {
   "cell_type": "code",
   "execution_count": 152,
   "id": "8b74e832",
   "metadata": {},
   "outputs": [
    {
     "name": "stdout",
     "output_type": "stream",
     "text": [
      "3\n",
      "0.4150547\n"
     ]
    }
   ],
   "source": [
    "checkpoint = torch.load('model_info.pt')\n",
    "model.load_state_dict(checkpoint['model_state_dict'])\n",
    "opt.load_state_dict(checkpoint['optimizer_state_dict'])\n",
    "epoch = checkpoint['epoch']\n",
    "loss = checkpoint['loss']\n",
    "\n",
    "print(epoch)\n",
    "print(loss)\n",
    "\n",
    "# model.eval()\n",
    "# model.train()"
   ]
  },
  {
   "cell_type": "code",
   "execution_count": 153,
   "id": "8e191a64",
   "metadata": {},
   "outputs": [
    {
     "data": {
      "text/plain": [
       "[<matplotlib.lines.Line2D at 0x7fe5458e2d40>]"
      ]
     },
     "execution_count": 153,
     "metadata": {},
     "output_type": "execute_result"
    },
    {
     "data": {
      "image/png": "[encoded data removed]",
      "text/plain": [
       "<Figure size 640x480 with 1 Axes>"
      ]
     },
     "metadata": {},
     "output_type": "display_data"
    }
   ],
   "source": [
    "# plot training loss\n",
    "plt.plot(np.array(losses_train_dict['30002']))"
   ]
  },
  {
   "cell_type": "code",
   "execution_count": 154,
   "id": "b9245511",
   "metadata": {},
   "outputs": [
    {
     "data": {
      "text/plain": [
       "[<matplotlib.lines.Line2D at 0x7fe54592feb0>]"
      ]
     },
     "execution_count": 154,
     "metadata": {},
     "output_type": "execute_result"
    },
    {
     "data": {
      "image/png": "[encoded data removed]",
      "text/plain": [
       "<Figure size 640x480 with 1 Axes>"
      ]
     },
     "metadata": {},
     "output_type": "display_data"
    }
   ],
   "source": [
    "# plot test loss\n",
    "plt.plot(np.array(losses_test_dict['30002']))"
   ]
  },
  {
   "cell_type": "code",
   "execution_count": null,
   "id": "c262dde5",
   "metadata": {},
   "outputs": [],
   "source": []
  },
  {
   "cell_type": "code",
   "execution_count": null,
   "id": "00cb8510",
   "metadata": {},
   "outputs": [],
   "source": []
  },
  {
   "cell_type": "code",
   "execution_count": null,
   "id": "6b741111",
   "metadata": {},
   "outputs": [],
   "source": []
  },
  {
   "cell_type": "code",
   "execution_count": null,
   "id": "1bed958b",
   "metadata": {},
   "outputs": [],
   "source": []
  },
  {
   "cell_type": "code",
   "execution_count": null,
   "id": "cf996499",
   "metadata": {},
   "outputs": [],
   "source": []
  },
  {
   "cell_type": "code",
   "execution_count": null,
   "id": "b7838da9",
   "metadata": {
    "scrolled": true
   },
   "outputs": [],
   "source": [
    "# Training loop\n",
    "# for loop for all zips\n",
    "\n",
    "losses_dict = {} # initialize dict to store loss values for each zip\n",
    "\n",
    "for zipcode in df['census_zcta5_geoid'].unique():\n",
    "    \n",
    "    # Access one zipcdode\n",
    "    sfr = zip_dict_train[zipcode]\n",
    "    \n",
    "    # create dataloader\n",
    "    dl = DataLoader(sfr, batch_size = batchsize, shuffle = True, drop_last = True)\n",
    "    \n",
    "    # initialize list for zip-level losses\n",
    "    losses = []\n",
    "    \n",
    "    for epoch in trange(epochs):\n",
    "        model.train()\n",
    "        for batch in dl:\n",
    "            \n",
    "            opt.zero_grad() # at the beginning of batch, zero out the optimizer\n",
    "        \n",
    "            # use inputs and outputs to make model prediction\n",
    "            x = batch['X']\n",
    "            y = batch['Y']\n",
    "            y_hat = model(x)\n",
    "        \n",
    "            loss = loss_fn(y_hat, y) # calculate loss\n",
    "            loss.backward() # calculate gradient of loss\n",
    "            opt.step() # runs the optimizer and updates model params based on gradient\n",
    "            losses.append(loss.cpu().detach().numpy()) # single value as a numpy\n",
    "        \n",
    "        # test the model\n",
    "        model.eval()\n",
    "        \n",
    "        # create new dataloader with test data\n",
    "        # leave out optimizer / backward\n",
    "        \n",
    "        # checkpointing\n",
    "        # store model IF test loss has gone down        \n",
    "        \n",
    "    losses_dict[zipcode] = losses"
   ]
  },
  {
   "cell_type": "code",
   "execution_count": null,
   "id": "5edfbd6b",
   "metadata": {},
   "outputs": [],
   "source": []
  },
  {
   "cell_type": "code",
   "execution_count": null,
   "id": "7c796e07",
   "metadata": {},
   "outputs": [],
   "source": []
  },
  {
   "cell_type": "code",
   "execution_count": null,
   "id": "04e562c3",
   "metadata": {},
   "outputs": [],
   "source": []
  },
  {
   "cell_type": "code",
   "execution_count": null,
   "id": "9751ba1b",
   "metadata": {},
   "outputs": [],
   "source": [
    "# for reference"
   ]
  },
  {
   "cell_type": "code",
   "execution_count": null,
   "id": "b282abec",
   "metadata": {},
   "outputs": [],
   "source": [
    "output = pd.DataFrame(columns = ['zip', 'model', 'mape', 'mae', 'mse'])"
   ]
  },
  {
   "cell_type": "code",
   "execution_count": null,
   "id": "59376fb6",
   "metadata": {},
   "outputs": [],
   "source": [
    "    output_zip = []\n",
    "    output_zip.append(zipcode)\n",
    "    output_zip.append('nn_batch3_epoch150')\n",
    "    output_zip.append(performance_metrics(df_cv)['mape'].mean())\n",
    "    output_zip.append(performance_metrics(df_cv)['mae'].mean())\n",
    "    output_zip.append(performance_metrics(df_cv)['mse'].mean())\n",
    "    output.loc[len(output)] = output_zip"
   ]
  }
 ],
 "metadata": {
  "kernelspec": {
   "display_name": "Python 3 (ipykernel)",
   "language": "python",
   "name": "python3"
  },
  "language_info": {
   "codemirror_mode": {
    "name": "ipython",
    "version": 3
   },
   "file_extension": ".py",
   "mimetype": "text/x-python",
   "name": "python",
   "nbconvert_exporter": "python",
   "pygments_lexer": "ipython3",
   "version": "3.10.9"
  }
 },
 "nbformat": 4,
 "nbformat_minor": 5
}
