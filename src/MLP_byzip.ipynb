{
 "cells": [
  {
   "cell_type": "code",
   "execution_count": 232,
   "id": "c5d59379",
   "metadata": {},
   "outputs": [],
   "source": [
    "# General\n",
    "import pickle\n",
    "import pandas as pd\n",
    "import numpy as np\n",
    "import math\n",
    "import datetime\n",
    "from scipy import stats\n",
    "import itertools\n",
    "from pandas.plotting import register_matplotlib_converters\n",
    "import warnings\n",
    "\n",
    "from sklearn.preprocessing import MinMaxScaler\n",
    "from sklearn.model_selection import TimeSeriesSplit\n",
    "from sklearn.compose import ColumnTransformer, make_column_selector\n",
    "\n",
    "# Plotting\n",
    "import matplotlib.pyplot as plt\n",
    "import seaborn as sns\n",
    "\n",
    "# Torch\n",
    "import torch.nn as nn\n",
    "import torch\n",
    "from torch.optim import Adam\n",
    "from torch.utils.data import Dataset, DataLoader\n",
    "from tqdm import trange\n",
    "\n",
    "# Set options\n",
    "pd.set_option(\"display.max_rows\", 500)\n",
    "pd.set_option(\"display.max_columns\", 500)\n",
    "warnings.filterwarnings('ignore')"
   ]
  },
  {
   "cell_type": "code",
   "execution_count": 316,
   "id": "90d24a5c",
   "metadata": {},
   "outputs": [],
   "source": [
    "# Load data, sort on zip and date and set index to datetime\n",
    "with open(\"../data/sfr_mfr_mig_pre-processed.pkl\", \"rb\") as f: df = pickle.load(f)\n",
    "df.sort_values(['census_cbsa_geoid', 'census_zcta5_geoid', 'date'], inplace = True)"
   ]
  },
  {
   "cell_type": "code",
   "execution_count": 127,
   "id": "39e9f1ae",
   "metadata": {},
   "outputs": [
    {
     "data": {
      "text/plain": [
       "Index(['date', 'census_cbsa_geoid', 'census_zcta5_geoid', 'sfr_rental_index',\n",
       "       'sfr_price_index', 'coef', 'nounits', 'occupied_units', 'mfr_occ',\n",
       "       'mfr_mean_occ_index', 'mfr_mean_rent', 'mfr_mean_rent_index', 'month',\n",
       "       'cos_month', 'sin_month', 'sfr_rental_delta', 'us_zip', 'population',\n",
       "       'student_population_fraction', 'netflow_estimated', 'inflow_estimated',\n",
       "       'outflow_estimated', 'cumulative_netflow_estimated',\n",
       "       'median_income_inflow', 'median_income', 'median_income_difference',\n",
       "       'median_age_inflow', 'median_age', 'median_age_difference',\n",
       "       'inflow_index', 'outflow_index', 'netflow_index', 'income_inflow_index',\n",
       "       'income_diff_index', 'age_inflow_index', 'age_inflow_diff_index'],\n",
       "      dtype='object')"
      ]
     },
     "execution_count": 127,
     "metadata": {},
     "output_type": "execute_result"
    }
   ],
   "source": [
    "df.columns"
   ]
  },
  {
   "cell_type": "code",
   "execution_count": 317,
   "id": "3be99078",
   "metadata": {},
   "outputs": [],
   "source": [
    "# subset for time frame that includes MFR data (Jan 2015 - June 2023)\n",
    "df = df.loc[(df.date >= '2015-01-01') & (df.date <= '2023-06-01')]"
   ]
  },
  {
   "cell_type": "code",
   "execution_count": 318,
   "id": "82282fb8",
   "metadata": {},
   "outputs": [],
   "source": [
    "# drop incomplete zips\n",
    "drops = df.loc[df.mfr_occ.isna()].census_zcta5_geoid.unique().tolist()\n",
    "df.drop(df.loc[df['census_zcta5_geoid'].isin(drops)].index, inplace=True)"
   ]
  },
  {
   "cell_type": "code",
   "execution_count": 319,
   "id": "15e2299e",
   "metadata": {},
   "outputs": [],
   "source": [
    "# Translate all index columns into delta\n",
    "df['offset_price_index'] = df['sfr_price_index'].shift(periods = 1)\n",
    "df.dropna(inplace=True)\n",
    "df['sfr_price_delta'] = df['sfr_price_index'] - df['offset_price_index']\n",
    "\n",
    "df['offset_mfrrent_index'] = df['mfr_mean_rent_index'].shift(periods = 1)\n",
    "df.dropna(inplace=True)\n",
    "df['mfr_rent_delta'] = df['mfr_mean_rent_index'] - df['offset_mfrrent_index']\n",
    "\n",
    "df['offset_mfrocc_index'] = df['mfr_mean_occ_index'].shift(periods = 1)\n",
    "df.dropna(inplace=True)\n",
    "df['mfr_occ_delta'] = df['mfr_mean_occ_index'] - df['offset_mfrocc_index']"
   ]
  },
  {
   "cell_type": "code",
   "execution_count": 320,
   "id": "ad17da4a",
   "metadata": {
    "scrolled": true
   },
   "outputs": [
    {
     "data": {
      "text/html": [
       "<div>\n",
       "<style scoped>\n",
       "    .dataframe tbody tr th:only-of-type {\n",
       "        vertical-align: middle;\n",
       "    }\n",
       "\n",
       "    .dataframe tbody tr th {\n",
       "        vertical-align: top;\n",
       "    }\n",
       "\n",
       "    .dataframe thead th {\n",
       "        text-align: right;\n",
       "    }\n",
       "</style>\n",
       "<table border=\"1\" class=\"dataframe\">\n",
       "  <thead>\n",
       "    <tr style=\"text-align: right;\">\n",
       "      <th></th>\n",
       "      <th>date</th>\n",
       "      <th>census_zcta5_geoid</th>\n",
       "      <th>sfr_rental_delta</th>\n",
       "      <th>sfr_price_delta</th>\n",
       "      <th>mfr_rent_delta</th>\n",
       "      <th>mfr_occ_delta</th>\n",
       "      <th>cos_month</th>\n",
       "      <th>sin_month</th>\n",
       "    </tr>\n",
       "  </thead>\n",
       "  <tbody>\n",
       "    <tr>\n",
       "      <th>109</th>\n",
       "      <td>2019-02-01</td>\n",
       "      <td>30002</td>\n",
       "      <td>0.5569</td>\n",
       "      <td>0.2339</td>\n",
       "      <td>0.4898</td>\n",
       "      <td>0.0323</td>\n",
       "      <td>0.5000</td>\n",
       "      <td>0.8660</td>\n",
       "    </tr>\n",
       "    <tr>\n",
       "      <th>110</th>\n",
       "      <td>2019-03-01</td>\n",
       "      <td>30002</td>\n",
       "      <td>0.6948</td>\n",
       "      <td>1.3213</td>\n",
       "      <td>1.2114</td>\n",
       "      <td>-0.1921</td>\n",
       "      <td>0.0000</td>\n",
       "      <td>1.0000</td>\n",
       "    </tr>\n",
       "    <tr>\n",
       "      <th>111</th>\n",
       "      <td>2019-04-01</td>\n",
       "      <td>30002</td>\n",
       "      <td>0.8489</td>\n",
       "      <td>0.2247</td>\n",
       "      <td>0.5009</td>\n",
       "      <td>-0.4165</td>\n",
       "      <td>-0.5000</td>\n",
       "      <td>0.8660</td>\n",
       "    </tr>\n",
       "    <tr>\n",
       "      <th>112</th>\n",
       "      <td>2019-05-01</td>\n",
       "      <td>30002</td>\n",
       "      <td>0.6759</td>\n",
       "      <td>0.6222</td>\n",
       "      <td>0.5009</td>\n",
       "      <td>-0.2884</td>\n",
       "      <td>-0.8660</td>\n",
       "      <td>0.5000</td>\n",
       "    </tr>\n",
       "    <tr>\n",
       "      <th>113</th>\n",
       "      <td>2019-06-01</td>\n",
       "      <td>30002</td>\n",
       "      <td>0.5433</td>\n",
       "      <td>0.9363</td>\n",
       "      <td>0.5140</td>\n",
       "      <td>-0.6174</td>\n",
       "      <td>-1.0000</td>\n",
       "      <td>0.0000</td>\n",
       "    </tr>\n",
       "    <tr>\n",
       "      <th>...</th>\n",
       "      <td>...</td>\n",
       "      <td>...</td>\n",
       "      <td>...</td>\n",
       "      <td>...</td>\n",
       "      <td>...</td>\n",
       "      <td>...</td>\n",
       "      <td>...</td>\n",
       "      <td>...</td>\n",
       "    </tr>\n",
       "    <tr>\n",
       "      <th>36073</th>\n",
       "      <td>2023-02-01</td>\n",
       "      <td>44333</td>\n",
       "      <td>0.8291</td>\n",
       "      <td>-1.3466</td>\n",
       "      <td>1.7447</td>\n",
       "      <td>0.0000</td>\n",
       "      <td>0.5000</td>\n",
       "      <td>0.8660</td>\n",
       "    </tr>\n",
       "    <tr>\n",
       "      <th>36074</th>\n",
       "      <td>2023-03-01</td>\n",
       "      <td>44333</td>\n",
       "      <td>0.6817</td>\n",
       "      <td>0.1833</td>\n",
       "      <td>0.8363</td>\n",
       "      <td>-0.2888</td>\n",
       "      <td>0.0000</td>\n",
       "      <td>1.0000</td>\n",
       "    </tr>\n",
       "    <tr>\n",
       "      <th>36075</th>\n",
       "      <td>2023-04-01</td>\n",
       "      <td>44333</td>\n",
       "      <td>0.9218</td>\n",
       "      <td>1.0300</td>\n",
       "      <td>0.2950</td>\n",
       "      <td>0.0000</td>\n",
       "      <td>-0.5000</td>\n",
       "      <td>0.8660</td>\n",
       "    </tr>\n",
       "    <tr>\n",
       "      <th>36076</th>\n",
       "      <td>2023-05-01</td>\n",
       "      <td>44333</td>\n",
       "      <td>1.3360</td>\n",
       "      <td>1.8028</td>\n",
       "      <td>-0.0658</td>\n",
       "      <td>-0.2865</td>\n",
       "      <td>-0.8660</td>\n",
       "      <td>0.5000</td>\n",
       "    </tr>\n",
       "    <tr>\n",
       "      <th>36077</th>\n",
       "      <td>2023-06-01</td>\n",
       "      <td>44333</td>\n",
       "      <td>-0.1459</td>\n",
       "      <td>0.8675</td>\n",
       "      <td>-1.7256</td>\n",
       "      <td>0.0000</td>\n",
       "      <td>-1.0000</td>\n",
       "      <td>0.0000</td>\n",
       "    </tr>\n",
       "  </tbody>\n",
       "</table>\n",
       "<p>9946 rows × 8 columns</p>\n",
       "</div>"
      ],
      "text/plain": [
       "            date census_zcta5_geoid  sfr_rental_delta  sfr_price_delta  \\\n",
       "109   2019-02-01              30002            0.5569           0.2339   \n",
       "110   2019-03-01              30002            0.6948           1.3213   \n",
       "111   2019-04-01              30002            0.8489           0.2247   \n",
       "112   2019-05-01              30002            0.6759           0.6222   \n",
       "113   2019-06-01              30002            0.5433           0.9363   \n",
       "...          ...                ...               ...              ...   \n",
       "36073 2023-02-01              44333            0.8291          -1.3466   \n",
       "36074 2023-03-01              44333            0.6817           0.1833   \n",
       "36075 2023-04-01              44333            0.9218           1.0300   \n",
       "36076 2023-05-01              44333            1.3360           1.8028   \n",
       "36077 2023-06-01              44333           -0.1459           0.8675   \n",
       "\n",
       "       mfr_rent_delta  mfr_occ_delta  cos_month  sin_month  \n",
       "109            0.4898         0.0323     0.5000     0.8660  \n",
       "110            1.2114        -0.1921     0.0000     1.0000  \n",
       "111            0.5009        -0.4165    -0.5000     0.8660  \n",
       "112            0.5009        -0.2884    -0.8660     0.5000  \n",
       "113            0.5140        -0.6174    -1.0000     0.0000  \n",
       "...               ...            ...        ...        ...  \n",
       "36073          1.7447         0.0000     0.5000     0.8660  \n",
       "36074          0.8363        -0.2888     0.0000     1.0000  \n",
       "36075          0.2950         0.0000    -0.5000     0.8660  \n",
       "36076         -0.0658        -0.2865    -0.8660     0.5000  \n",
       "36077         -1.7256         0.0000    -1.0000     0.0000  \n",
       "\n",
       "[9946 rows x 8 columns]"
      ]
     },
     "execution_count": 320,
     "metadata": {},
     "output_type": "execute_result"
    }
   ],
   "source": [
    "# Keep only desired columns\n",
    "df = df[['date', 'census_zcta5_geoid', 'sfr_rental_delta', 'sfr_price_delta', \n",
    "         'mfr_rent_delta', 'mfr_occ_delta', 'cos_month', 'sin_month']]\n",
    "df"
   ]
  },
  {
   "cell_type": "code",
   "execution_count": null,
   "id": "07c84cba",
   "metadata": {},
   "outputs": [],
   "source": []
  },
  {
   "cell_type": "code",
   "execution_count": 321,
   "id": "b5c1f4e5",
   "metadata": {},
   "outputs": [],
   "source": [
    "# Filter to one zip\n",
    "data = df[df['census_zcta5_geoid'] == '30002']"
   ]
  },
  {
   "cell_type": "code",
   "execution_count": 322,
   "id": "a6d49e5e",
   "metadata": {},
   "outputs": [
    {
     "name": "stdout",
     "output_type": "stream",
     "text": [
      "sfr delta min:  -0.021928687325157625\n",
      "sfr delta max:  2.7484477057625725\n",
      "sfp delta min:  -1.0262933909697551\n",
      "spf delta max:  2.70708843576827\n",
      "mfr delta min:  -6.191246879688521\n",
      "mfr delta max:  11.174883047660813\n",
      "mfo delta min:  -1.203598507587401\n",
      "mfo delta max:  1.1941999833700123\n"
     ]
    }
   ],
   "source": [
    "# Keep track of min / max values per delta columns to scale to (-1, 1)\n",
    "# Then scale it back to original values after prediction\n",
    "# Do min/max only on training dataset otherwise leaking info\n",
    "\n",
    "sfr_delta_min = data['sfr_rental_delta'].min() \n",
    "sfr_delta_max = data['sfr_rental_delta'].max()\n",
    "print('sfr delta min: ', sfr_delta_min)\n",
    "print('sfr delta max: ', sfr_delta_max)\n",
    "\n",
    "sfp_delta_min = data['sfr_price_delta'].min()\n",
    "sfp_delta_max = data['sfr_price_delta'].max()\n",
    "print('sfp delta min: ', sfp_delta_min)\n",
    "print('spf delta max: ', sfp_delta_max)\n",
    "\n",
    "mfr_delta_min = data['mfr_rent_delta'].min()\n",
    "mfr_delta_max = data['mfr_rent_delta'].max()\n",
    "print('mfr delta min: ', mfr_delta_min)\n",
    "print('mfr delta max: ', mfr_delta_max)\n",
    "\n",
    "mfo_delta_min = data['mfr_occ_delta'].min()\n",
    "mfo_delta_max = data['mfr_occ_delta'].max()\n",
    "print('mfo delta min: ', mfo_delta_min)\n",
    "print('mfo delta max: ', mfo_delta_max)"
   ]
  },
  {
   "cell_type": "code",
   "execution_count": null,
   "id": "4022bc0e",
   "metadata": {},
   "outputs": [],
   "source": []
  },
  {
   "cell_type": "code",
   "execution_count": null,
   "id": "8f73d79c",
   "metadata": {},
   "outputs": [],
   "source": []
  },
  {
   "cell_type": "code",
   "execution_count": 328,
   "id": "90531b15",
   "metadata": {},
   "outputs": [],
   "source": [
    "# Define class\n",
    "\n",
    "class SFR_DATASET(Dataset):\n",
    "    def __init__(self, df):\n",
    "        self.data = df.to_dict('records') # random access is easier with dictionaries\n",
    "    \n",
    "    def __len__(self): \n",
    "        return len(self.data)  #######################  orginally this had -10, why?\n",
    "    \n",
    "    def __getitem__(self, idx): \n",
    "        # given an index, get three months as input\n",
    "        # next six months as output\n",
    "        \n",
    "        #input = pd.DataFrame(self.data[idx:idx+3])\n",
    "        #output = pd.DataFrame(self.data[idx+4:idx+10])\n",
    "        \n",
    "        input = pd.DataFrame(self.data[idx:idx+3])\n",
    "        output = pd.DataFrame(self.data[idx+4:idx+10])\n",
    "        \n",
    "        # each of these are 3x1 tensors (3 months of data)\n",
    "        in_sfr = torch.tensor(input['sfr_rental_delta']) \n",
    "        in_sfp = torch.tensor(input['sfr_price_delta'])\n",
    "        in_mfr = torch.tensor(input['mfr_rent_delta'])\n",
    "        in_mfo = torch.tensor(input['mfr_occ_delta'])\n",
    "        in_sinm = torch.tensor(input['sin_month'])\n",
    "        in_cosm = torch.tensor(input['cos_month']) \n",
    "        x = torch.cat((in_sfr, in_sfp, in_mfr, in_mfo, in_sinm, in_cosm), dim = 0) # concat into 18-wide vector\n",
    "        y = torch.tensor(output['sfr_rental_delta'])\n",
    "        return {'X':x.float(), 'Y':y.float()}"
   ]
  },
  {
   "cell_type": "code",
   "execution_count": 299,
   "id": "a4cf5abe",
   "metadata": {},
   "outputs": [],
   "source": [
    "# Define scaler\n",
    "scaler = MinMaxScaler(feature_range=(-1, 1))\n",
    "\n",
    "col_transform = ColumnTransformer(\n",
    "    transformers=[\n",
    "        (\"num\", MinMaxScaler(feature_range=(-1, 1)), make_column_selector(dtype_include=np.number))], \n",
    "        remainder='passthrough',\n",
    "        verbose_feature_names_out = False\n",
    ")"
   ]
  },
  {
   "cell_type": "code",
   "execution_count": 300,
   "id": "54a26e4a",
   "metadata": {},
   "outputs": [],
   "source": [
    "# Create zip dict to store class for each zip\n",
    "zip_dict_train = {}\n",
    "zip_dict_test = {}\n",
    "\n",
    "# Cast the class, separating out by zipcdoe\n",
    "for zipcode in df['census_zcta5_geoid'].unique():\n",
    "    \n",
    "    # Filter for single zipcode\n",
    "    zipcode_df = df[df['census_zcta5_geoid'] == zipcode]\n",
    "    \n",
    "    # Train test split\n",
    "    tss = TimeSeriesSplit(n_splits = 2, test_size = 6) # hold out 6 months as test set\n",
    "    for train_index, test_index in tss.split(zipcode_df):\n",
    "        df_train, df_test = zipcode_df.iloc[train_index, :], zipcode_df.iloc[test_index,:]\n",
    "    \n",
    "    # Transform training data, cast class and store\n",
    "    train_X = col_transform.fit_transform(df_train)\n",
    "    train_X = pd.DataFrame(train_X, columns = col_transform.get_feature_names_out())\n",
    "    train_sfr = SFR_DATASET(train_X)\n",
    "    zip_dict_train[zipcode] = train_sfr\n",
    "    \n",
    "    # Transform testing data, cast class and store\n",
    "    test_X = col_transform.fit_transform(df_test)\n",
    "    test_X = pd.DataFrame(test_X, columns = col_transform.get_feature_names_out())\n",
    "    test_sfr = SFR_DATASET(test_X)\n",
    "    zip_dict_test[zipcode] = test_sfr"
   ]
  },
  {
   "cell_type": "code",
   "execution_count": 301,
   "id": "08865b0c",
   "metadata": {},
   "outputs": [
    {
     "name": "stdout",
     "output_type": "stream",
     "text": [
      "47\n",
      "{'X': tensor([-5.9914e-01, -4.9856e-01, -3.8609e-01, -3.2488e-01,  2.5762e-01,\n",
      "        -3.2986e-01, -2.9385e-01, -2.0646e-01, -2.9249e-01,  3.0867e-02,\n",
      "        -1.5630e-01, -3.4346e-01,  8.6603e-01,  1.0000e+00,  8.6603e-01,\n",
      "         5.0000e-01,  6.1232e-17, -5.0000e-01]), 'Y': tensor([-0.6090, -0.5183, -0.6592, -0.6600, -0.7521, -0.8608])}\n",
      "6\n",
      "{'X': tensor([ 5.3144e-01,  1.0000e+00,  5.1913e-01, -1.0000e+00, -7.2259e-01,\n",
      "         2.4968e-01, -1.0000e+00,  7.7828e-01,  2.2030e-01, -1.0000e+00,\n",
      "        -1.2212e-01,  7.1187e-01, -2.2204e-16,  7.3205e-01,  1.0000e+00,\n",
      "         1.0000e+00,  6.0770e-01,  7.1797e-02]), 'Y': tensor([ 0.1899, -1.0000])}\n"
     ]
    }
   ],
   "source": [
    "# check contents of dict\n",
    "print(zip_dict_train['30002'].__len__())\n",
    "print(zip_dict_train['30002'].__getitem__(0))\n",
    "\n",
    "print(zip_dict_test['30002'].__len__())\n",
    "print(zip_dict_test['30002'].__getitem__(0))\n",
    "\n",
    "# for given index\n",
    "# returns X as 1x18 vector (3 months for each of the 6 input variables)\n",
    "# returns y as 1x6 vecotr (6 month prediction for sfr_rental)"
   ]
  },
  {
   "cell_type": "code",
   "execution_count": null,
   "id": "0fc359fb",
   "metadata": {},
   "outputs": [],
   "source": []
  },
  {
   "cell_type": "code",
   "execution_count": 323,
   "id": "0fe6fecf",
   "metadata": {},
   "outputs": [],
   "source": [
    "# Model: simple multilayer perceptron\n",
    "# sequential 3 layer model\n",
    "\n",
    "# want hidden dim between input and output for what we're doing or it can be less\n",
    "# maximum number of free vars that actually alter anything\n",
    "\n",
    "class SFR_MODEL(nn.Module):\n",
    "    def __init__(self, indim, hdim, outdim):\n",
    "        super().__init__() # for nn.MOdule you must initialize the super class\n",
    "        self.layers = nn.Sequential(\n",
    "            nn.Linear(indim, hdim),\n",
    "            nn.LeakyReLU(),\n",
    "            nn.Linear(hdim, outdim),\n",
    "            nn.Tanh()\n",
    "        )\n",
    "    def forward(self, x):\n",
    "        return self.layers(x)"
   ]
  },
  {
   "cell_type": "code",
   "execution_count": 324,
   "id": "10f01ef4",
   "metadata": {},
   "outputs": [
    {
     "name": "stdout",
     "output_type": "stream",
     "text": [
      "SFR_MODEL(\n",
      "  (layers): Sequential(\n",
      "    (0): Linear(in_features=18, out_features=12, bias=True)\n",
      "    (1): LeakyReLU(negative_slope=0.01)\n",
      "    (2): Linear(in_features=12, out_features=6, bias=True)\n",
      "    (3): Tanh()\n",
      "  )\n",
      ")\n"
     ]
    }
   ],
   "source": [
    "# create instance of model\n",
    "\n",
    "# indim matches length of input vector\n",
    "# outdim matches length of output vector\n",
    "# hdim?\n",
    "model = SFR_MODEL(indim = 18, hdim = 12, outdim = 6)\n",
    "print(model)"
   ]
  },
  {
   "cell_type": "code",
   "execution_count": null,
   "id": "e6f8a840",
   "metadata": {},
   "outputs": [],
   "source": []
  },
  {
   "cell_type": "code",
   "execution_count": 174,
   "id": "e53ca83e",
   "metadata": {},
   "outputs": [],
   "source": [
    "# set up training loop\n",
    "# optimizer - Adam good to start with\n",
    "# datalaoder - wrap around dataset to shuffle through batches\n",
    "\n",
    "opt = Adam(model.parameters()) # this is minimum (telling Adam all the numbers it can vary)\n",
    "batchsize = 3\n",
    "epochs = 150 # go though data 3x\n",
    "loss_fn = nn.MSELoss()"
   ]
  },
  {
   "cell_type": "code",
   "execution_count": 333,
   "id": "1bb8b2d2",
   "metadata": {
    "scrolled": true
   },
   "outputs": [
    {
     "name": "stderr",
     "output_type": "stream",
     "text": [
      "  0%|                                                             | 0/50 [00:00<?, ?it/s]\n"
     ]
    },
    {
     "ename": "RuntimeError",
     "evalue": "stack expects each tensor to be equal size, but got [6] at entry 0 and [1] at entry 2",
     "output_type": "error",
     "traceback": [
      "\u001b[0;31m---------------------------------------------------------------------------\u001b[0m",
      "\u001b[0;31mRuntimeError\u001b[0m                              Traceback (most recent call last)",
      "Cell \u001b[0;32mIn[333], line 17\u001b[0m\n\u001b[1;32m     14\u001b[0m losses \u001b[38;5;241m=\u001b[39m []\n\u001b[1;32m     16\u001b[0m \u001b[38;5;28;01mfor\u001b[39;00m epoch \u001b[38;5;129;01min\u001b[39;00m trange(epochs):\n\u001b[0;32m---> 17\u001b[0m     \u001b[38;5;28;01mfor\u001b[39;00m batch \u001b[38;5;129;01min\u001b[39;00m dl:\n\u001b[1;32m     19\u001b[0m         opt\u001b[38;5;241m.\u001b[39mzero_grad() \u001b[38;5;66;03m# at the beginning of batch, zero out the optimizer\u001b[39;00m\n\u001b[1;32m     21\u001b[0m         \u001b[38;5;66;03m# use inputs and outputs to make model prediction\u001b[39;00m\n",
      "File \u001b[0;32m~/anaconda3/lib/python3.10/site-packages/torch/utils/data/dataloader.py:681\u001b[0m, in \u001b[0;36m_BaseDataLoaderIter.__next__\u001b[0;34m(self)\u001b[0m\n\u001b[1;32m    678\u001b[0m \u001b[38;5;28;01mif\u001b[39;00m \u001b[38;5;28mself\u001b[39m\u001b[38;5;241m.\u001b[39m_sampler_iter \u001b[38;5;129;01mis\u001b[39;00m \u001b[38;5;28;01mNone\u001b[39;00m:\n\u001b[1;32m    679\u001b[0m     \u001b[38;5;66;03m# TODO(https://github.com/pytorch/pytorch/issues/76750)\u001b[39;00m\n\u001b[1;32m    680\u001b[0m     \u001b[38;5;28mself\u001b[39m\u001b[38;5;241m.\u001b[39m_reset()  \u001b[38;5;66;03m# type: ignore[call-arg]\u001b[39;00m\n\u001b[0;32m--> 681\u001b[0m data \u001b[38;5;241m=\u001b[39m \u001b[38;5;28;43mself\u001b[39;49m\u001b[38;5;241;43m.\u001b[39;49m\u001b[43m_next_data\u001b[49m\u001b[43m(\u001b[49m\u001b[43m)\u001b[49m\n\u001b[1;32m    682\u001b[0m \u001b[38;5;28mself\u001b[39m\u001b[38;5;241m.\u001b[39m_num_yielded \u001b[38;5;241m+\u001b[39m\u001b[38;5;241m=\u001b[39m \u001b[38;5;241m1\u001b[39m\n\u001b[1;32m    683\u001b[0m \u001b[38;5;28;01mif\u001b[39;00m \u001b[38;5;28mself\u001b[39m\u001b[38;5;241m.\u001b[39m_dataset_kind \u001b[38;5;241m==\u001b[39m _DatasetKind\u001b[38;5;241m.\u001b[39mIterable \u001b[38;5;129;01mand\u001b[39;00m \\\n\u001b[1;32m    684\u001b[0m         \u001b[38;5;28mself\u001b[39m\u001b[38;5;241m.\u001b[39m_IterableDataset_len_called \u001b[38;5;129;01mis\u001b[39;00m \u001b[38;5;129;01mnot\u001b[39;00m \u001b[38;5;28;01mNone\u001b[39;00m \u001b[38;5;129;01mand\u001b[39;00m \\\n\u001b[1;32m    685\u001b[0m         \u001b[38;5;28mself\u001b[39m\u001b[38;5;241m.\u001b[39m_num_yielded \u001b[38;5;241m>\u001b[39m \u001b[38;5;28mself\u001b[39m\u001b[38;5;241m.\u001b[39m_IterableDataset_len_called:\n",
      "File \u001b[0;32m~/anaconda3/lib/python3.10/site-packages/torch/utils/data/dataloader.py:721\u001b[0m, in \u001b[0;36m_SingleProcessDataLoaderIter._next_data\u001b[0;34m(self)\u001b[0m\n\u001b[1;32m    719\u001b[0m \u001b[38;5;28;01mdef\u001b[39;00m \u001b[38;5;21m_next_data\u001b[39m(\u001b[38;5;28mself\u001b[39m):\n\u001b[1;32m    720\u001b[0m     index \u001b[38;5;241m=\u001b[39m \u001b[38;5;28mself\u001b[39m\u001b[38;5;241m.\u001b[39m_next_index()  \u001b[38;5;66;03m# may raise StopIteration\u001b[39;00m\n\u001b[0;32m--> 721\u001b[0m     data \u001b[38;5;241m=\u001b[39m \u001b[38;5;28;43mself\u001b[39;49m\u001b[38;5;241;43m.\u001b[39;49m\u001b[43m_dataset_fetcher\u001b[49m\u001b[38;5;241;43m.\u001b[39;49m\u001b[43mfetch\u001b[49m\u001b[43m(\u001b[49m\u001b[43mindex\u001b[49m\u001b[43m)\u001b[49m  \u001b[38;5;66;03m# may raise StopIteration\u001b[39;00m\n\u001b[1;32m    722\u001b[0m     \u001b[38;5;28;01mif\u001b[39;00m \u001b[38;5;28mself\u001b[39m\u001b[38;5;241m.\u001b[39m_pin_memory:\n\u001b[1;32m    723\u001b[0m         data \u001b[38;5;241m=\u001b[39m _utils\u001b[38;5;241m.\u001b[39mpin_memory\u001b[38;5;241m.\u001b[39mpin_memory(data, \u001b[38;5;28mself\u001b[39m\u001b[38;5;241m.\u001b[39m_pin_memory_device)\n",
      "File \u001b[0;32m~/anaconda3/lib/python3.10/site-packages/torch/utils/data/_utils/fetch.py:52\u001b[0m, in \u001b[0;36m_MapDatasetFetcher.fetch\u001b[0;34m(self, possibly_batched_index)\u001b[0m\n\u001b[1;32m     50\u001b[0m \u001b[38;5;28;01melse\u001b[39;00m:\n\u001b[1;32m     51\u001b[0m     data \u001b[38;5;241m=\u001b[39m \u001b[38;5;28mself\u001b[39m\u001b[38;5;241m.\u001b[39mdataset[possibly_batched_index]\n\u001b[0;32m---> 52\u001b[0m \u001b[38;5;28;01mreturn\u001b[39;00m \u001b[38;5;28;43mself\u001b[39;49m\u001b[38;5;241;43m.\u001b[39;49m\u001b[43mcollate_fn\u001b[49m\u001b[43m(\u001b[49m\u001b[43mdata\u001b[49m\u001b[43m)\u001b[49m\n",
      "File \u001b[0;32m~/anaconda3/lib/python3.10/site-packages/torch/utils/data/_utils/collate.py:160\u001b[0m, in \u001b[0;36mdefault_collate\u001b[0;34m(batch)\u001b[0m\n\u001b[1;32m    158\u001b[0m \u001b[38;5;28;01melif\u001b[39;00m \u001b[38;5;28misinstance\u001b[39m(elem, collections\u001b[38;5;241m.\u001b[39mabc\u001b[38;5;241m.\u001b[39mMapping):\n\u001b[1;32m    159\u001b[0m     \u001b[38;5;28;01mtry\u001b[39;00m:\n\u001b[0;32m--> 160\u001b[0m         \u001b[38;5;28;01mreturn\u001b[39;00m elem_type({key: default_collate([d[key] \u001b[38;5;28;01mfor\u001b[39;00m d \u001b[38;5;129;01min\u001b[39;00m batch]) \u001b[38;5;28;01mfor\u001b[39;00m key \u001b[38;5;129;01min\u001b[39;00m elem})\n\u001b[1;32m    161\u001b[0m     \u001b[38;5;28;01mexcept\u001b[39;00m \u001b[38;5;167;01mTypeError\u001b[39;00m:\n\u001b[1;32m    162\u001b[0m         \u001b[38;5;66;03m# The mapping type may not support `__init__(iterable)`.\u001b[39;00m\n\u001b[1;32m    163\u001b[0m         \u001b[38;5;28;01mreturn\u001b[39;00m {key: default_collate([d[key] \u001b[38;5;28;01mfor\u001b[39;00m d \u001b[38;5;129;01min\u001b[39;00m batch]) \u001b[38;5;28;01mfor\u001b[39;00m key \u001b[38;5;129;01min\u001b[39;00m elem}\n",
      "File \u001b[0;32m~/anaconda3/lib/python3.10/site-packages/torch/utils/data/_utils/collate.py:160\u001b[0m, in \u001b[0;36m<dictcomp>\u001b[0;34m(.0)\u001b[0m\n\u001b[1;32m    158\u001b[0m \u001b[38;5;28;01melif\u001b[39;00m \u001b[38;5;28misinstance\u001b[39m(elem, collections\u001b[38;5;241m.\u001b[39mabc\u001b[38;5;241m.\u001b[39mMapping):\n\u001b[1;32m    159\u001b[0m     \u001b[38;5;28;01mtry\u001b[39;00m:\n\u001b[0;32m--> 160\u001b[0m         \u001b[38;5;28;01mreturn\u001b[39;00m elem_type({key: \u001b[43mdefault_collate\u001b[49m\u001b[43m(\u001b[49m\u001b[43m[\u001b[49m\u001b[43md\u001b[49m\u001b[43m[\u001b[49m\u001b[43mkey\u001b[49m\u001b[43m]\u001b[49m\u001b[43m \u001b[49m\u001b[38;5;28;43;01mfor\u001b[39;49;00m\u001b[43m \u001b[49m\u001b[43md\u001b[49m\u001b[43m \u001b[49m\u001b[38;5;129;43;01min\u001b[39;49;00m\u001b[43m \u001b[49m\u001b[43mbatch\u001b[49m\u001b[43m]\u001b[49m\u001b[43m)\u001b[49m \u001b[38;5;28;01mfor\u001b[39;00m key \u001b[38;5;129;01min\u001b[39;00m elem})\n\u001b[1;32m    161\u001b[0m     \u001b[38;5;28;01mexcept\u001b[39;00m \u001b[38;5;167;01mTypeError\u001b[39;00m:\n\u001b[1;32m    162\u001b[0m         \u001b[38;5;66;03m# The mapping type may not support `__init__(iterable)`.\u001b[39;00m\n\u001b[1;32m    163\u001b[0m         \u001b[38;5;28;01mreturn\u001b[39;00m {key: default_collate([d[key] \u001b[38;5;28;01mfor\u001b[39;00m d \u001b[38;5;129;01min\u001b[39;00m batch]) \u001b[38;5;28;01mfor\u001b[39;00m key \u001b[38;5;129;01min\u001b[39;00m elem}\n",
      "File \u001b[0;32m~/anaconda3/lib/python3.10/site-packages/torch/utils/data/_utils/collate.py:141\u001b[0m, in \u001b[0;36mdefault_collate\u001b[0;34m(batch)\u001b[0m\n\u001b[1;32m    139\u001b[0m         storage \u001b[38;5;241m=\u001b[39m elem\u001b[38;5;241m.\u001b[39mstorage()\u001b[38;5;241m.\u001b[39m_new_shared(numel, device\u001b[38;5;241m=\u001b[39melem\u001b[38;5;241m.\u001b[39mdevice)\n\u001b[1;32m    140\u001b[0m         out \u001b[38;5;241m=\u001b[39m elem\u001b[38;5;241m.\u001b[39mnew(storage)\u001b[38;5;241m.\u001b[39mresize_(\u001b[38;5;28mlen\u001b[39m(batch), \u001b[38;5;241m*\u001b[39m\u001b[38;5;28mlist\u001b[39m(elem\u001b[38;5;241m.\u001b[39msize()))\n\u001b[0;32m--> 141\u001b[0m     \u001b[38;5;28;01mreturn\u001b[39;00m \u001b[43mtorch\u001b[49m\u001b[38;5;241;43m.\u001b[39;49m\u001b[43mstack\u001b[49m\u001b[43m(\u001b[49m\u001b[43mbatch\u001b[49m\u001b[43m,\u001b[49m\u001b[43m \u001b[49m\u001b[38;5;241;43m0\u001b[39;49m\u001b[43m,\u001b[49m\u001b[43m \u001b[49m\u001b[43mout\u001b[49m\u001b[38;5;241;43m=\u001b[39;49m\u001b[43mout\u001b[49m\u001b[43m)\u001b[49m\n\u001b[1;32m    142\u001b[0m \u001b[38;5;28;01melif\u001b[39;00m elem_type\u001b[38;5;241m.\u001b[39m\u001b[38;5;18m__module__\u001b[39m \u001b[38;5;241m==\u001b[39m \u001b[38;5;124m'\u001b[39m\u001b[38;5;124mnumpy\u001b[39m\u001b[38;5;124m'\u001b[39m \u001b[38;5;129;01mand\u001b[39;00m elem_type\u001b[38;5;241m.\u001b[39m\u001b[38;5;18m__name__\u001b[39m \u001b[38;5;241m!=\u001b[39m \u001b[38;5;124m'\u001b[39m\u001b[38;5;124mstr_\u001b[39m\u001b[38;5;124m'\u001b[39m \\\n\u001b[1;32m    143\u001b[0m         \u001b[38;5;129;01mand\u001b[39;00m elem_type\u001b[38;5;241m.\u001b[39m\u001b[38;5;18m__name__\u001b[39m \u001b[38;5;241m!=\u001b[39m \u001b[38;5;124m'\u001b[39m\u001b[38;5;124mstring_\u001b[39m\u001b[38;5;124m'\u001b[39m:\n\u001b[1;32m    144\u001b[0m     \u001b[38;5;28;01mif\u001b[39;00m elem_type\u001b[38;5;241m.\u001b[39m\u001b[38;5;18m__name__\u001b[39m \u001b[38;5;241m==\u001b[39m \u001b[38;5;124m'\u001b[39m\u001b[38;5;124mndarray\u001b[39m\u001b[38;5;124m'\u001b[39m \u001b[38;5;129;01mor\u001b[39;00m elem_type\u001b[38;5;241m.\u001b[39m\u001b[38;5;18m__name__\u001b[39m \u001b[38;5;241m==\u001b[39m \u001b[38;5;124m'\u001b[39m\u001b[38;5;124mmemmap\u001b[39m\u001b[38;5;124m'\u001b[39m:\n\u001b[1;32m    145\u001b[0m         \u001b[38;5;66;03m# array of string classes and object\u001b[39;00m\n",
      "\u001b[0;31mRuntimeError\u001b[0m: stack expects each tensor to be equal size, but got [6] at entry 0 and [1] at entry 2"
     ]
    }
   ],
   "source": [
    "# Training loop\n",
    "\n",
    "losses_dict = {} # initialize dict to store loss values for each zip\n",
    "\n",
    "for zipcode in df['census_zcta5_geoid'].unique():\n",
    "    \n",
    "    # Access one zipcdode\n",
    "    sfr = zip_dict_train[zipcode]\n",
    "    \n",
    "    # create dataloader\n",
    "    dl = DataLoader(sfr, batch_size = batchsize, shuffle = True, drop_last = True)\n",
    "    \n",
    "    # initialize list for zip-level losses\n",
    "    losses = []\n",
    "    \n",
    "    for epoch in trange(epochs):\n",
    "        for batch in dl:\n",
    "            \n",
    "            opt.zero_grad() # at the beginning of batch, zero out the optimizer\n",
    "        \n",
    "            # use inputs and outputs to make model prediction\n",
    "            x = batch['X']\n",
    "            y = batch['Y']\n",
    "            y_hat = model(x)\n",
    "        \n",
    "            loss = loss_fn(y_hat, y) # calculate loss\n",
    "            loss.backward() # calculate gradient of loss\n",
    "            opt.step() # runs the optimizer and updates model params based on gradient\n",
    "            losses.append(loss.cpu().detach().numpy()) # single value as a numpy\n",
    "            \n",
    "    losses_dict[zipcode] = losses"
   ]
  },
  {
   "cell_type": "code",
   "execution_count": null,
   "id": "92b5de2c",
   "metadata": {},
   "outputs": [],
   "source": []
  },
  {
   "cell_type": "code",
   "execution_count": null,
   "id": "387aeb86",
   "metadata": {},
   "outputs": [],
   "source": []
  },
  {
   "cell_type": "code",
   "execution_count": null,
   "id": "f9809f0a",
   "metadata": {},
   "outputs": [],
   "source": []
  },
  {
   "cell_type": "code",
   "execution_count": null,
   "id": "2f1fdeff",
   "metadata": {},
   "outputs": [],
   "source": []
  },
  {
   "cell_type": "code",
   "execution_count": null,
   "id": "9f106a4e",
   "metadata": {},
   "outputs": [],
   "source": []
  },
  {
   "cell_type": "code",
   "execution_count": 176,
   "id": "5082848d",
   "metadata": {},
   "outputs": [
    {
     "data": {
      "text/plain": [
       "[<matplotlib.lines.Line2D at 0x7ff218829930>]"
      ]
     },
     "execution_count": 176,
     "metadata": {},
     "output_type": "execute_result"
    },
    {
     "data": {
      "image/png": "[encoded data removed]",
      "text/plain": [
       "<Figure size 640x480 with 1 Axes>"
      ]
     },
     "metadata": {},
     "output_type": "display_data"
    }
   ],
   "source": [
    "# want to see loss trending down\n",
    "plt.plot(np.array(losses))"
   ]
  },
  {
   "cell_type": "code",
   "execution_count": null,
   "id": "490cd1ed",
   "metadata": {},
   "outputs": [],
   "source": [
    "# Next steps: \n",
    "\n",
    "# create delta for rest of input columns\n",
    "# train test split \n",
    "# integrating all zipcodes - make dict of zipcodes and then handle zipcodes one by one"
   ]
  },
  {
   "cell_type": "code",
   "execution_count": null,
   "id": "a6ad2904",
   "metadata": {},
   "outputs": [],
   "source": []
  }
 ],
 "metadata": {
  "kernelspec": {
   "display_name": "Python 3 (ipykernel)",
   "language": "python",
   "name": "python3"
  },
  "language_info": {
   "codemirror_mode": {
    "name": "ipython",
    "version": 3
   },
   "file_extension": ".py",
   "mimetype": "text/x-python",
   "name": "python",
   "nbconvert_exporter": "python",
   "pygments_lexer": "ipython3",
   "version": "3.10.9"
  }
 },
 "nbformat": 4,
 "nbformat_minor": 5
}
